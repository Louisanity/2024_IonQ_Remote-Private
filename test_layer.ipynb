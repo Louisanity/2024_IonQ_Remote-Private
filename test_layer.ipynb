{
 "cells": [
  {
   "cell_type": "markdown",
   "metadata": {},
   "source": [
    "### Test of generating alternating single qubit and two qubit layers"
   ]
  },
  {
   "cell_type": "code",
   "execution_count": 1,
   "metadata": {},
   "outputs": [],
   "source": [
    "vault_0 = {'0': 0.47, '7': 0.53}\n",
    "\n",
    "vault_1 = {'1': 0.005, '3': 0.02, '4': 0.01, '5': 0.005, '6': 0.005, '9': 0.005, '10': 0.005, '11': 0.01, '12': 0.01, '14': 0.005, '15': 0.005, '18': 0.005,\n",
    " '19': 0.005, '23': 0.005, '25': 0.005, '27': 0.005, '29': 0.02, '30': 0.005, '31': 0.005, '32': 0.01, '33': 0.035, '34': 0.02, '35': 0.07, '36': 0.055, '37': 0.045,\n",
    " '38': 0.085, '39': 0.015, '42': 0.005, '43': 0.02, '44': 0.005, '45': 0.005, '46': 0.04, '47': 0.02, '48': 0.005, '49': 0.035, '50': 0.03,\n",
    " '51': 0.045, '52': 0.02, '53': 0.06, '54': 0.025, '55': 0.015, '57': 0.03, '58': 0.01, '59': 0.04, '60': 0.025, '61': 0.025, '62': 0.04, '63': 0.025}\n",
    "\n",
    "vault_2 = {'0': 0.035, '1': 0.005, '2': 0.005, '5': 0.065, '6': 0.045, '7': 0.01, '8': 0.015, '9': 0.025, '10': 0.03, '11': 0.005, '12': 0.065,\n",
    " '13': 0.025, '14': 0.05, '15': 0.02, '16': 0.09, '17': 0.015, '18': 0.01, '19': 0.035, '20': 0.02, '21': 0.005, '23': 0.015, '25': 0.05,\n",
    " '27': 0.005, '28': 0.02, '29': 0.04, '30': 0.05, '31': 0.02, '32': 0.005, '33': 0.01, '34': 0.025, '35': 0.015, '36': 0.005, '38': 0.005,\n",
    " '40': 0.005, '41': 0.005, '42': 0.02, '43': 0.015, '45': 0.01, '49': 0.015, '52': 0.005, '54': 0.015, '56': 0.005, '58': 0.015, '59': 0.005, '60': 0.015,\n",
    " '61': 0.015, '62': 0.015}\n",
    "\n",
    "vault_3 = {'95': 0.005, '245': 0.005, '397': 0.005, '399': 0.005, '405': 0.005, '423': 0.005, '424': 0.005, '494': 0.005, '503': 0.005, '683': 0.005, '739': 0.005,\n",
    " '746': 0.005, '749': 0.005, '754': 0.005, '757': 0.005, '823': 0.005, '853': 0.005, '867': 0.005, '872': 0.005, '874': 0.005, '875': 0.005, '878': 0.005,\n",
    " '882': 0.005, '883': 0.005, '884': 0.005, '886': 0.005, '895': 0.005, '909': 0.005, '918': 0.005, '938': 0.005, '975': 0.005, '1001': 0.005, '1005': 0.02,\n",
    " '1007': 0.005, '1013': 0.005, '1014': 0.005, '1067': 0.005, '1099': 0.005, '1131': 0.005, '1137': 0.005, '1145': 0.005, '1229': 0.005, '1230': 0.005,\n",
    " '1239': 0.005, '1261': 0.005, '1263': 0.005, '1265': 0.005, '1269': 0.01, '1291': 0.005, '1293': 0.005, '1296': 0.005, '1322': 0.005, '1325': 0.01, '1329': 0.005,\n",
    " '1331': 0.005, '1333': 0.005, '1335': 0.005, '1356': 0.005, '1358': 0.005, '1359': 0.005, '1360': 0.005, '1387': 0.005, '1389': 0.025, '1391': 0.005, '1393': 0.005,\n",
    " '1394': 0.005, '1397': 0.015, '1402': 0.01, '1405': 0.005, '1407': 0.005, '1411': 0.005, '1413': 0.005, '1415': 0.005, '1416': 0.01, '1421': 0.005, '1423': 0.005,\n",
    " '1426': 0.005, '1429': 0.005, '1432': 0.005, '1435': 0.005, '1455': 0.005, '1469': 0.005, '1509': 0.005, '1511': 0.01, '1512': 0.005, '1513': 0.005, '1514': 0.01,\n",
    " '1515': 0.06, '1516': 0.005, '1517': 0.065, '1518': 0.005, '1519': 0.035, '1520': 0.015, '1521': 0.01, '1522': 0.01, '1523': 0.025, '1525': 0.035, '1526': 0.005,\n",
    " '1527': 0.01, '1669': 0.005, '1769': 0.005, '1774': 0.005, '1855': 0.005, '1871': 0.005, '1899': 0.005, '1904': 0.005, '1905': 0.005, '1920': 0.005, '1963': 0.005,\n",
    " '2024': 0.005, '2027': 0.005, '2029': 0.005, '2031': 0.01, '2037': 0.005, '2162': 0.005, '2325': 0.005, '2539': 0.005, '2896': 0.005, '2917': 0.005, '3021': 0.005,\n",
    " '3024': 0.005, '3053': 0.005, '3375': 0.005, '3433': 0.005, '3435': 0.005, '3437': 0.005, '3442': 0.005, '3483': 0.005, '3491': 0.005, '3496': 0.005, '3561': 0.005,\n",
    " '3563': 0.005, '3565': 0.01, '3573': 0.015, '3575': 0.005, '3955': 0.005, '4086': 0.005}\n",
    "\n",
    "vault_4 = {'72': 0.005, '116': 0.005, '180': 0.005, '181': 0.005, '186': 0.005, '187': 0.005, '188': 0.005, '233': 0.005, '244': 0.005, '308': 0.005,\n",
    " '317': 0.005, '328': 0.005, '346': 0.005, '354': 0.01, '373': 0.005, '418': 0.005, '434': 0.005, '442': 0.005, '471': 0.005, '495': 0.005, '598': 0.005,\n",
    " '718': 0.005, '725': 0.005, '738': 0.005, '746': 0.005, '763': 0.005, '796': 0.005, '828': 0.005, '842': 0.005, '858': 0.005, '882': 0.005, '958': 0.005,\n",
    " '976': 0.005, '989': 0.005, '1003': 0.005, '1127': 0.005, '1318': 0.005, '1358': 0.005, '1495': 0.005, '1513': 0.005, '1569': 0.005, '1576': 0.005, '1581': 0.005,\n",
    " '1634': 0.005, '1636': 0.005, '1642': 0.005, '1661': 0.005, '1698': 0.005, '1716': 0.005, '1738': 0.005, '1742': 0.005, '1766': 0.005, '1767': 0.005, '1770': 0.005,\n",
    " '1790': 0.005, '1826': 0.005, '1827': 0.005, '1838': 0.005, '1840': 0.005, '1842': 0.005, '1850': 0.005, '1885': 0.005, '1892': 0.005, '1897': 0.005, '1898': 0.005,\n",
    " '1966': 0.005, '1982': 0.005, '1984': 0.005, '1993': 0.005, '2004': 0.005, '2007': 0.005, '2025': 0.005, '2032': 0.005, '2035': 0.005, '2046': 0.005, '2090': 0.005,\n",
    " '2091': 0.005, '2114': 0.005, '2115': 0.005, '2146': 0.005, '2148': 0.005, '2153': 0.005, '2154': 0.01, '2155': 0.005, '2156': 0.005, '2168': 0.005, '2197': 0.005,\n",
    " '2212': 0.005, '2242': 0.005, '2290': 0.005, '2304': 0.005, '2347': 0.005, '2378': 0.005, '2451': 0.005, '2453': 0.005, '2459': 0.005, '2490': 0.005, '2544': 0.005,\n",
    " '2586': 0.005, '2600': 0.005, '2670': 0.005, '2676': 0.01, '2677': 0.005, '2680': 0.005, '2682': 0.005, '2690': 0.005, '2700': 0.005, '2706': 0.005, '2707': 0.005,\n",
    " '2711': 0.005, '2762': 0.005, '2819': 0.005, '2826': 0.005, '2827': 0.005, '2828': 0.005, '2844': 0.005, '2847': 0.005, '2854': 0.005, '2874': 0.005, '2880': 0.005,\n",
    " '2886': 0.005, '2890': 0.015, '2906': 0.005, '2973': 0.005, '3011': 0.005, '3022': 0.005, '3102': 0.005, '3106': 0.01, '3123': 0.005, '3138': 0.005, '3159': 0.005,\n",
    " '3162': 0.005, '3174': 0.005, '3200': 0.005, '3203': 0.005, '3219': 0.01, '3224': 0.01, '3228': 0.005, '3235': 0.005, '3238': 0.005, '3250': 0.005, '3252': 0.005,\n",
    " '3253': 0.005, '3264': 0.005, '3278': 0.005, '3290': 0.01, '3298': 0.005, '3305': 0.005, '3306': 0.005, '3352': 0.005, '3358': 0.005, '3362': 0.005, '3366': 0.005,\n",
    " '3367': 0.005, '3372': 0.005, '3374': 0.005, '3375': 0.005, '3380': 0.005, '3388': 0.005, '3394': 0.005, '3400': 0.005, '3402': 0.005, '3414': 0.01, '3418': 0.005,\n",
    " '3426': 0.01, '3427': 0.005, '3435': 0.005, '3436': 0.005, '3444': 0.01, '3450': 0.005, '3530': 0.005, '3560': 0.005, '3564': 0.005, '3571': 0.005, '3616': 0.005,\n",
    " '3701': 0.005, '3706': 0.005, '3709': 0.005, '3819': 0.005, '3845': 0.005, '3868': 0.005, '3874': 0.005, '3914': 0.01, '3916': 0.005, '3927': 0.005, '3956': 0.005,\n",
    " '4066': 0.005}\n",
    "\n",
    "vault_5 = {'0': 0.13, '1': 0.12, '2': 0.11, '3': 0.11, '4': 0.17, '5': 0.15, '6': 0.095, '7': 0.115}\n",
    "\n",
    "vault_6 = {'0': 0.01, '1': 0.025, '2': 0.01, '3': 0.015, '4': 0.015, '5': 0.005, '6': 0.025, '7': 0.025, '8': 0.02, '9': 0.01, '10': 0.025, '11': 0.01, '12': 0.01,\n",
    " '13': 0.015, '14': 0.015, '15': 0.015, '16': 0.02, '17': 0.005, '18': 0.02, '19': 0.02, '20': 0.015, '22': 0.005, '23': 0.025, '24': 0.005, '25': 0.01, '26': 0.015,\n",
    " '27': 0.035, '28': 0.015, '29': 0.025, '31': 0.005, '32': 0.005, '33': 0.02, '34': 0.01, '35': 0.005, '36': 0.055, '37': 0.025, '38': 0.015, '39': 0.035, '40': 0.005,\n",
    " '41': 0.025, '42': 0.025, '43': 0.01, '44': 0.025, '45': 0.025, '46': 0.02, '47': 0.015, '49': 0.015, '50': 0.01, '51': 0.015, '52': 0.01, '53': 0.015, '54': 0.015,\n",
    " '55': 0.015, '56': 0.01, '57': 0.015, '58': 0.005, '59': 0.02, '60': 0.02, '61': 0.015, '62': 0.02, '63': 0.01}\n",
    "\n",
    "vault_7 = {'4': 0.005, '11': 0.005, '18': 0.005, '19': 0.01, '20': 0.01, '32': 0.005, '40': 0.005, '55': 0.005, '59': 0.005, '61': 0.005, '65': 0.005, '70': 0.005,\n",
    " '72': 0.005, '89': 0.005, '96': 0.005, '98': 0.005, '99': 0.005, '102': 0.005, '104': 0.005, '113': 0.005, '121': 0.01, '123': 0.005, '126': 0.005, '132': 0.005,\n",
    " '134': 0.005, '138': 0.005, '141': 0.005, '146': 0.005, '153': 0.005, '162': 0.005, '165': 0.005, '166': 0.005, '168': 0.005, '175': 0.005, '187': 0.005,\n",
    " '190': 0.005, '201': 0.005, '204': 0.005, '213': 0.005, '214': 0.005, '215': 0.005, '228': 0.005, '229': 0.005, '232': 0.005, '243': 0.005, '250': 0.005,\n",
    " '254': 0.005, '259': 0.005, '260': 0.005, '270': 0.005, '271': 0.005, '276': 0.005, '289': 0.005, '296': 0.005, '297': 0.005, '303': 0.005, '304': 0.005,\n",
    " '305': 0.005, '308': 0.005, '319': 0.005, '322': 0.005, '325': 0.005, '326': 0.005, '353': 0.005, '368': 0.01, '372': 0.005, '376': 0.005, '377': 0.005,\n",
    " '392': 0.005, '406': 0.005, '407': 0.005, '416': 0.005, '424': 0.01, '433': 0.005, '434': 0.005, '439': 0.005, '441': 0.005, '444': 0.005, '446': 0.005,\n",
    " '447': 0.005, '448': 0.005, '449': 0.005, '457': 0.005, '464': 0.005, '467': 0.005, '472': 0.005, '477': 0.005, '479': 0.005, '502': 0.005, '513': 0.005,\n",
    " '533': 0.005, '534': 0.005, '535': 0.005, '541': 0.005, '548': 0.005, '557': 0.005, '561': 0.005, '580': 0.005, '581': 0.005, '582': 0.01, '583': 0.01,\n",
    " '585': 0.005, '588': 0.005, '589': 0.01, '591': 0.005, '595': 0.005, '600': 0.005, '604': 0.005, '605': 0.005, '606': 0.005, '617': 0.005, '619': 0.005,\n",
    " '620': 0.005, '626': 0.005, '628': 0.005, '630': 0.005, '631': 0.005, '632': 0.01, '636': 0.005, '655': 0.005, '659': 0.005, '661': 0.005, '667': 0.005,\n",
    " '668': 0.01, '672': 0.005, '676': 0.005, '682': 0.005, '683': 0.005, '686': 0.005, '694': 0.005, '698': 0.005, '709': 0.01, '714': 0.01, '716': 0.005,\n",
    " '720': 0.005, '721': 0.005, '731': 0.005, '732': 0.005, '733': 0.005, '739': 0.005, '742': 0.005, '747': 0.01, '752': 0.005, '757': 0.01, '792': 0.005,\n",
    " '796': 0.005, '799': 0.005, '810': 0.005, '812': 0.005, '818': 0.005, '825': 0.005, '826': 0.005, '833': 0.005, '840': 0.005, '848': 0.005, '852': 0.005,\n",
    " '858': 0.005, '866': 0.005, '868': 0.005, '876': 0.005, '887': 0.005, '888': 0.005, '890': 0.005, '902': 0.01, '913': 0.01, '918': 0.005, '941': 0.005,\n",
    " '947': 0.005, '950': 0.005, '951': 0.005, '956': 0.005, '966': 0.005, '967': 0.01, '975': 0.005, '979': 0.005, '985': 0.005, '986': 0.005, '998': 0.005,\n",
    " '999': 0.005, '1000': 0.005, '1002': 0.005, '1012': 0.005, '1022': 0.005}\n",
    "\n",
    "vault_8 = {'76': 0.005, '191': 0.005, '303': 0.005, '307': 0.005, '314': 0.005, '329': 0.005, '331': 0.005, '521': 0.005, '642': 0.005, '890': 0.005,\n",
    " '950': 0.005, '986': 0.005, '1050': 0.005, '1133': 0.005, '1163': 0.005, '1427': 0.005, '1539': 0.005, '1574': 0.005, '1590': 0.005, '1642': 0.005,\n",
    " '1671': 0.005, '1808': 0.005, '1937': 0.005, '1945': 0.005, '1969': 0.005, '2028': 0.005, '2112': 0.005, '2159': 0.005, '2219': 0.005, '2263': 0.005,\n",
    " '2348': 0.005, '2448': 0.005, '2604': 0.005, '2642': 0.005, '2662': 0.005, '2698': 0.005, '2811': 0.005, '3001': 0.005, '3050': 0.005, '3220': 0.005,\n",
    " '3276': 0.005, '3422': 0.005, '3438': 0.005, '3446': 0.005, '3654': 0.005, '3668': 0.005, '3725': 0.005, '3897': 0.005, '4004': 0.005, '4075': 0.005,\n",
    " '4149': 0.005, '4167': 0.005, '4334': 0.005, '4348': 0.005, '4423': 0.005, '4633': 0.005, '4741': 0.005, '4752': 0.005, '4851': 0.005, '4873': 0.005,\n",
    " '4887': 0.005, '4941': 0.005, '5110': 0.005, '5167': 0.005, '5209': 0.005, '5219': 0.005, '5658': 0.005, '5890': 0.005, '5897': 0.005, '5959': 0.005,\n",
    " '6022': 0.005, '6041': 0.005, '6282': 0.005, '6496': 0.005, '6524': 0.005, '6671': 0.005, '6787': 0.005, '6793': 0.005, '6941': 0.005, '6944': 0.005,\n",
    " '7024': 0.005, '7068': 0.005, '7117': 0.005, '7141': 0.005, '7160': 0.005, '7169': 0.005, '7186': 0.005, '7325': 0.005, '7430': 0.005, '7473': 0.005,\n",
    " '7560': 0.005, '7640': 0.005, '7678': 0.005, '8035': 0.005, '8213': 0.005, '8536': 0.005, '8549': 0.005, '8572': 0.005, '8665': 0.005, '8775': 0.005,\n",
    " '8927': 0.005, '8991': 0.005, '9283': 0.005, '9306': 0.005, '9313': 0.005, '9324': 0.005, '9338': 0.005, '9342': 0.005, '9375': 0.005, '9409': 0.005,\n",
    " '9436': 0.005, '9439': 0.005, '9457': 0.005, '9523': 0.005, '9609': 0.005, '9665': 0.005, '9680': 0.005, '9700': 0.005, '9875': 0.005, '9909': 0.005,\n",
    " '9935': 0.005, '10028': 0.005, '10059': 0.005, '10085': 0.005, '10107': 0.005, '10119': 0.005, '10125': 0.005, '10182': 0.005, '10484': 0.005, '10551': 0.005,\n",
    " '10582': 0.005, '10684': 0.005, '10700': 0.005, '10702': 0.005, '10753': 0.005, '10816': 0.005, '10924': 0.005, '10934': 0.005, '10987': 0.005, '11105': 0.005,\n",
    " '11170': 0.005, '11345': 0.005, '11346': 0.005, '11426': 0.005, '11429': 0.005, '11460': 0.005, '11532': 0.005, '11541': 0.005, '11702': 0.005, '11717': 0.005,\n",
    " '11736': 0.005, '11830': 0.005, '11882': 0.005, '11960': 0.005, '11962': 0.005, '12045': 0.005, '12112': 0.005, '12116': 0.005, '12685': 0.005, '12749': 0.005,\n",
    " '12788': 0.005, '12971': 0.005, '13003': 0.005, '13093': 0.005, '13208': 0.005, '13227': 0.005, '13333': 0.005, '13451': 0.005, '13581': 0.005, '13641': 0.005,\n",
    " '13728': 0.005, '13867': 0.005, '13893': 0.005, '14021': 0.005, '14194': 0.005, '14223': 0.005, '14254': 0.005, '14435': 0.005, '14446': 0.005, '14610': 0.005,\n",
    " '14613': 0.005, '14689': 0.005, '15064': 0.005, '15164': 0.005, '15205': 0.005, '15225': 0.005, '15306': 0.005, '15462': 0.005, '15472': 0.005, '15477': 0.005,\n",
    " '15609': 0.005, '15664': 0.005, '15764': 0.005, '15788': 0.005, '15982': 0.005, '15998': 0.005, '16003': 0.005, '16033': 0.005, '16193': 0.005, '16365': 0.005}\n",
    "\n",
    "vault_9 = {'0': 0.155, '1': 0.755, '3': 0.09}\n",
    "\n",
    "vault_10 = {'0': 0.255, '1': 0.005, '2': 0.05, '4': 0.64, '5': 0.005, '6': 0.045}\n",
    "\n",
    "vault_11 = {'0': 0.025, '1': 0.015, '2': 0.005, '3': 0.02, '4': 0.01, '5': 0.02, '6': 0.02, '7': 0.015, '8': 0.215, '9': 0.225, '10': 0.145, '11': 0.065, '12': 0.04,\n",
    " '13': 0.05, '14': 0.08, '15': 0.05}\n",
    "\n",
    "vault_12 = {'0': 0.005, '2': 0.005, '4': 0.015, '5': 0.01, '8': 0.025, '10': 0.015, '16': 0.03, '18': 0.08, '20': 0.01, '24': 0.595, '25': 0.015, '26': 0.175,\n",
    " '27': 0.01, '28': 0.005, '30': 0.005}"
   ]
  },
  {
   "cell_type": "code",
   "execution_count": 1750,
   "metadata": {},
   "outputs": [],
   "source": [
    "vault_9_2 = {'0': 0.105, '1': 0.205, '2': 0.025, '3': 0.665} # H on q0\n",
    "vault_9_3 = {'0': 0.105, '1': 0.205, '2': 0.025, '3': 0.665} # H on q1\n",
    "vault_10_2 = {'0': 0.51, '2': 0.08, '3': 0.005, '4': 0.35, '5': 0.005, '6': 0.05} # H on q0\n",
    "vault_5_2 = {'0': 0.25, '1': 0.22, '2': 0.32, '3': 0.21} # H on q0\n",
    "vault_11_2 = {'0': 0.225, '1': 0.19, '2': 0.05, '3': 0.01, '4': 0.025, '5': 0.01, '6': 0.055, '8': 0.105,\n",
    " '9': 0.07, '10': 0.11, '11': 0.06, '12': 0.025, '13': 0.025, '14': 0.035, '15': 0.005} # H on q0, q2"
   ]
  },
  {
   "cell_type": "code",
   "execution_count": 1751,
   "metadata": {},
   "outputs": [],
   "source": [
    "from qiskit import QuantumCircuit \n",
    "from qiskit.circuit import ParameterVector\n",
    "def alternating_sq_2q_layers_(num_qubits, depths = 1, two_q_gate_type = None, connectivity = None, measurement = False):\n",
    "    \"\"\"\n",
    "    num_qubits: int\n",
    "                number of qubits for quantum circuit\n",
    "                \n",
    "    depths: int\n",
    "            number of repetitions for alternating layers\n",
    "            it should be at least 1\n",
    "            \n",
    "    two_q_gate_type: str\n",
    "                     type of two qubit entangling gates, RXX, RYY, RZX, RZZ\n",
    "    \n",
    "    connectivity: list\n",
    "                  coupling maps for two qubit gates, all-to-all or custom connectivity can be used\n",
    "    \n",
    "    \"\"\"\n",
    "    qubits = [i for i in range(num_qubits)]\n",
    "    num_params = (4+2*depths)* num_qubits # number of parameters needed for single qubit gate + two qubit gate (which equals to 1, always)\n",
    "    params = ParameterVector('x', num_params)\n",
    "    num_2q_gates = len(connectivity)\n",
    "    if measurement:\n",
    "        circuit = QuantumCircuit(num_qubits, num_qubits)\n",
    "    else:\n",
    "        circuit = QuantumCircuit(num_qubits)\n",
    "    two_qubit_gate = getattr(circuit, two_q_gate_type.lower())\n",
    "    \n",
    "    params_counts = 0\n",
    "    # initial arbitrary single qubit layer and two qubit layer\n",
    "    circuit.h(0)\n",
    "    circuit.rz(params[0],0)\n",
    "    circuit.rx(params[1],0)\n",
    "    circuit.rz(params[2],0)\n",
    "    params_counts += 3\n",
    "\n",
    "    for _ in range(2):\n",
    "        bias = params_counts\n",
    "        for i, qubit in enumerate(qubits[1:]):\n",
    "            # circuit.rz(params[3*i], qubit)\n",
    "            circuit.rx(params[2*i+bias], qubit)\n",
    "            circuit.rz(params[2*i+1+bias], qubit)\n",
    "            params_counts += 2\n",
    "\n",
    "    if depths > 1: \n",
    "        circuit.cx(0,1)\n",
    "        rem = params_counts\n",
    "        circuit.rz(params[rem],0)\n",
    "        circuit.rx(params[rem+1],0)\n",
    "        circuit.rz(params[rem+2],0)\n",
    "        bias = params_counts\n",
    "        circuit.rz(params[bias],1)\n",
    "        circuit.rx(params[bias+1],1)\n",
    "        circuit.rz(params[bias+2],1)\n",
    "        circuit.cx(1,2)\n",
    "        circuit.cx(0,1)\n",
    "        circuit.rz(-params[rem+2],0)\n",
    "        circuit.rx(-params[rem+1],0)\n",
    "        circuit.rz(-params[rem],0)\n",
    "\n",
    "        for _ in range(depths-1):\n",
    "            bias = params_counts\n",
    "            \n",
    "            # circuit.cx((_+1)%2+1,(_+2)%2+1)\n",
    "            for i, qubit in enumerate([1,2]):\n",
    "                circuit.rz(params[3*i + bias], qubit)\n",
    "                circuit.rx(params[3*i+1 + bias], qubit)\n",
    "                circuit.rz(params[3*i+2 + bias], qubit)\n",
    "                params_counts += 3\n",
    "        \n",
    "\n",
    "    circuit.rz(-params[2],0)\n",
    "    circuit.rx(-params[1],0)\n",
    "    circuit.rz(-params[0],0)\n",
    "    if measurement:\n",
    "        circuit.measure(range(num_qubits),range(num_qubits))\n",
    "        \n",
    "    return circuit"
   ]
  },
  {
   "cell_type": "code",
   "execution_count": 894,
   "metadata": {},
   "outputs": [],
   "source": [
    "import qiskit\n",
    "from qiskit import QuantumCircuit\n",
    "import numpy as np\n",
    "from utils.layers import alternating_sq_2q_layers"
   ]
  },
  {
   "cell_type": "code",
   "execution_count": 1201,
   "metadata": {},
   "outputs": [
    {
     "data": {
      "image/png": "[encoded data removed]",
      "text/plain": [
       "<Figure size 387.597x204.68 with 1 Axes>"
      ]
     },
     "execution_count": 1201,
     "metadata": {},
     "output_type": "execute_result"
    }
   ],
   "source": [
    "connectivity = [[0,1], [1,2], [0,2]]\n",
    "circ = alternating_sq_2q_layers(3,1,'RXX', connectivity)\n",
    "circ.draw('mpl')\n",
    "# circ.draw('mpl')"
   ]
  },
  {
   "cell_type": "code",
   "execution_count": 418,
   "metadata": {},
   "outputs": [
    {
     "name": "stdout",
     "output_type": "stream",
     "text": [
      "Binary Representation: {'00': 0.105, '01': 0.205, '10': 0.025, '11': 0.665}\n",
      "Number of Qubits Required: 2\n"
     ]
    }
   ],
   "source": [
    "# Given state dictionary\n",
    "state = vault_9_2\n",
    "# Find the maximum key value to determine the number of qubits required\n",
    "max_key = max(map(int, state.keys()))\n",
    "num_qubits = max_key.bit_length()\n",
    "# Convert the keys to binary strings, padding them to ensure they match the length required by num_qubits\n",
    "state_binary = {format(int(k), f'0{num_qubits}b'): v for k, v in state.items()}\n",
    "# Display the binary representation and the number of qubits\n",
    "print(\"Binary Representation:\", state_binary)\n",
    "print(\"Number of Qubits Required:\", num_qubits)"
   ]
  },
  {
   "cell_type": "code",
   "execution_count": 419,
   "metadata": {},
   "outputs": [],
   "source": [
    "state2 = state_binary\n"
   ]
  },
  {
   "cell_type": "code",
   "execution_count": 1787,
   "metadata": {},
   "outputs": [],
   "source": [
    "from qiskit_algorithms.optimizers import L_BFGS_B, COBYLA\n",
    "from qiskit_aer import StatevectorSimulator\n",
    "from qiskit.quantum_info import Statevector\n",
    "import qiskit.quantum_info as qi\n",
    "\n",
    "intermediate_cost = []\n",
    "intermediate_params = []\n",
    "\n",
    "def cost(params, target1,target2,\n",
    "         circ):\n",
    "    '''\n",
    "    target: dict\n",
    "            count_dictionary obtained from the probe circuit\n",
    "    params: \n",
    "    '''\n",
    "    bitstrings = [np.binary_repr(i, width = num_qubits) for i in range(2**(num_qubits))]\n",
    "    zero_dict = {bits:0 for bits in bitstrings}\n",
    "    cost = 0\n",
    "    \n",
    "    circ1 = circ.assign_parameters(params)\n",
    "    result_dict_ = qi.Statevector.from_instruction(circ1).probabilities_dict()\n",
    "\n",
    "    reversed_dict = {}\n",
    "    for key, value in result_dict_.items():\n",
    "        reversed_key = key[::-1]  # Reverse the key\n",
    "        reversed_dict[reversed_key] = value\n",
    "        \n",
    "    for key, value in zero_dict.items():\n",
    "        if key not in reversed_dict:\n",
    "            reversed_dict[key] = value\n",
    "        if key not in target1:\n",
    "            target1[key] = value\n",
    "    \n",
    "    result_dict = reversed_dict\n",
    "    for key1, value1 in zero_dict.items():\n",
    "        value2 = result_dict[key1]\n",
    "        value1_ = target1[key1]\n",
    "        cost += (value2-value1_)**2/ len(bitstrings)\n",
    "            \n",
    "            \n",
    "    circ2 = circ.assign_parameters(params)\n",
    "    circ2.h(0)\n",
    "    circ2.h(2)\n",
    "    result_dict_ = qi.Statevector.from_instruction(circ2).probabilities_dict()\n",
    "    reversed_dict = {}\n",
    "    for key, value in result_dict_.items():\n",
    "        reversed_key = key[::-1]  # Reverse the key\n",
    "        reversed_dict[reversed_key] = value\n",
    "    for key, value in zero_dict.items():\n",
    "        if key not in reversed_dict:\n",
    "            reversed_dict[key] = value\n",
    "        if key not in target2:\n",
    "            target2[key] = value\n",
    "    result_dict = reversed_dict\n",
    "    for key1, value1 in result_dict.items():\n",
    "        value2 = result_dict[key1]\n",
    "        value1_ = target2[key1]\n",
    "        cost += (value2-value1_)**2/ len(bitstrings)\n",
    "        \n",
    "    # circ2 = circ.assign_parameters(params)\n",
    "    # circ2.h(1)\n",
    "    # result_dict_ = qi.Statevector.from_instruction(circ2).probabilities_dict()\n",
    "    # reversed_dict = {}\n",
    "    # for key, value in result_dict_.items():\n",
    "    #     reversed_key = key[::-1]  # Reverse the key\n",
    "    #     reversed_dict[reversed_key] = value\n",
    "\n",
    "    # result_dict = reversed_dict\n",
    "    # for key1, value1 in target3.items():\n",
    "    #     if key1 in result_dict:\n",
    "    #         value2 = result_dict[key1]\n",
    "    #         cost += (value2-value1)**2\n",
    "            \n",
    "            \n",
    "    intermediate_cost.append(cost)\n",
    "    intermediate_params.append(params)\n",
    "    return cost\n",
    "\n",
    "def callback_func(params, target1, target2):\n",
    "    cost_value = cost(params, target1,target2,circ)  # Calculate the cost at the current iteration\n",
    "    intermediate_cost.append(cost_value)\n",
    "    intermediate_params.append(params)"
   ]
  },
  {
   "cell_type": "code",
   "execution_count": 1788,
   "metadata": {},
   "outputs": [
    {
     "data": {
      "image/png": "[encoded data removed]",
      "text/plain": [
       "<Figure size 1290.6x264.88 with 1 Axes>"
      ]
     },
     "execution_count": 1788,
     "metadata": {},
     "output_type": "execute_result"
    }
   ],
   "source": [
    "# import torch\n",
    "# import torch.optim as optim\n",
    "import qiskit.quantum_info as qi\n",
    "connectivity = [[i, (i+1)%num_qubits] for i in range(num_qubits)]\n",
    "# connectivity = [[0,1],[1,2],[2,0]]\n",
    "# connectivity = [[0,1], [1,2],[2,3],[3,4]]\n",
    "circ = alternating_sq_2q_layers(num_qubits,3,'RYY', connectivity)\n",
    "params = circ.num_parameters\n",
    "# circ = alternating_sq_2q_layers(4,1,'RXX', connectivity, measurement=False).assign_parameters(params)\n",
    "# target = qi.Statevector.from_instruction(circ).probabilities_dict()\n",
    "# target\n",
    "circ.draw('mpl')"
   ]
  },
  {
   "cell_type": "code",
   "execution_count": 1720,
   "metadata": {},
   "outputs": [],
   "source": [
    "circc = circ.assign_parameters(optimized).inverse().qasm()"
   ]
  },
  {
   "cell_type": "code",
   "execution_count": 1721,
   "metadata": {},
   "outputs": [
    {
     "data": {
      "text/plain": [
       "'OPENQASM 2.0;\\ninclude \"qelib1.inc\";\\ngate ryy(param0) q0,q1 { rx(pi/2) q0; rx(pi/2) q1; cx q0,q1; rz(param0) q1; cx q0,q1; rx(-pi/2) q0; rx(-pi/2) q1; }\\nqreg q[10];\\nryy(-1.2468909448858887) q[8],q[9];\\nryy(-1.0149954746753749) q[7],q[8];\\nryy(-1.2339216252732215) q[6],q[7];\\nryy(-0.6068096300451351) q[5],q[6];\\nryy(-0.44616620409434765) q[4],q[5];\\nryy(-0.6059182389600775) q[3],q[4];\\nryy(-1.3114734702161865) q[2],q[3];\\nryy(-0.20264222479750732) q[1],q[2];\\nryy(-0.8931180807523332) q[0],q[1];\\nrz(-0.511250992772508) q[9];\\nrx(-0.8753739977320143) q[9];\\nrz(-0.23323057508956477) q[8];\\nrx(0.010400135812438017) q[8];\\nrz(0.03045982961559661) q[7];\\nrx(-0.4849097830611326) q[7];\\nrz(0.07014692722938912) q[6];\\nrx(-0.7342727082475378) q[6];\\nrz(-0.1556185326901638) q[5];\\nrx(-1.3088050662151058) q[5];\\nrz(-0.6991441256340664) q[4];\\nrx(-0.022874241887309632) q[4];\\nrz(-0.8828837119057705) q[3];\\nrx(-1.0878993899211076) q[3];\\nrz(-0.9256629882760967) q[2];\\nrx(-0.27145651543378596) q[2];\\nrz(-0.7010562792034498) q[1];\\nrx(-1.0805207489337862) q[1];\\nrz(-0.2652740691041397) q[0];\\nrx(-0.9278256940621507) q[0];\\n'"
      ]
     },
     "execution_count": 1721,
     "metadata": {},
     "output_type": "execute_result"
    }
   ],
   "source": [
    "circc"
   ]
  },
  {
   "cell_type": "code",
   "execution_count": 1789,
   "metadata": {},
   "outputs": [
    {
     "data": {
      "text/plain": [
       "(0.07623124998102448, 0.00015313399274202247)"
      ]
     },
     "execution_count": 1789,
     "metadata": {},
     "output_type": "execute_result"
    }
   ],
   "source": [
    "from scipy.optimize import minimize\n",
    "parameters = [np.random.random() for _ in range(params)]\n",
    "\n",
    "out = minimize(cost, x0=parameters, args = (state1,state2,circ) ,method=\"L-BFGS-B\", options={'maxiter':100000})\n",
    "optimized = intermediate_params[np.argmin(intermediate_cost)]\n",
    "cost(out.jac,state1, state2 ,circ), cost(optimized,state1, state2, circ)"
   ]
  },
  {
   "cell_type": "code",
   "execution_count": 1006,
   "metadata": {},
   "outputs": [
    {
     "data": {
      "image/png": "[encoded data removed]",
      "text/plain": [
       "<Figure size 748.797x204.68 with 1 Axes>"
      ]
     },
     "execution_count": 1006,
     "metadata": {},
     "output_type": "execute_result"
    }
   ],
   "source": [
    "circ.draw('mpl')"
   ]
  },
  {
   "cell_type": "code",
   "execution_count": 1738,
   "metadata": {},
   "outputs": [
    {
     "data": {
      "text/plain": [
       "{'0000': 0.225,\n",
       " '0001': 0.19,\n",
       " '0010': 0.05,\n",
       " '0011': 0.01,\n",
       " '0100': 0.025,\n",
       " '0101': 0.01,\n",
       " '0110': 0.055,\n",
       " '1000': 0.105,\n",
       " '1001': 0.07,\n",
       " '1010': 0.11,\n",
       " '1011': 0.06,\n",
       " '1100': 0.025,\n",
       " '1101': 0.025,\n",
       " '1110': 0.035,\n",
       " '1111': 0.005}"
      ]
     },
     "execution_count": 1738,
     "metadata": {},
     "output_type": "execute_result"
    }
   ],
   "source": [
    "state = vault_11_2\n",
    "# Find the maximum key value to determine the number of qubits required\n",
    "max_key = max(map(int, state.keys()))\n",
    "num_qubits = max_key.bit_length()\n",
    "# Convert the keys to binary strings, padding them to ensure they match the length required by num_qubits\n",
    "state_binary = {format(int(k), f'0{num_qubits}b'): v for k, v in state.items()}\n",
    "state_binary"
   ]
  },
  {
   "cell_type": "code",
   "execution_count": 1701,
   "metadata": {},
   "outputs": [
    {
     "data": {
      "text/plain": [
       "{'0000000100': 0.005,\n",
       " '0000001011': 0.005,\n",
       " '0000010010': 0.005,\n",
       " '0000010011': 0.01,\n",
       " '0000010100': 0.01,\n",
       " '0000100000': 0.005,\n",
       " '0000101000': 0.005,\n",
       " '0000110111': 0.005,\n",
       " '0000111011': 0.005,\n",
       " '0000111101': 0.005,\n",
       " '0001000001': 0.005,\n",
       " '0001000110': 0.005,\n",
       " '0001001000': 0.005,\n",
       " '0001011001': 0.005,\n",
       " '0001100000': 0.005,\n",
       " '0001100010': 0.005,\n",
       " '0001100011': 0.005,\n",
       " '0001100110': 0.005,\n",
       " '0001101000': 0.005,\n",
       " '0001110001': 0.005,\n",
       " '0001111001': 0.01,\n",
       " '0001111011': 0.005,\n",
       " '0001111110': 0.005,\n",
       " '0010000100': 0.005,\n",
       " '0010000110': 0.005,\n",
       " '0010001010': 0.005,\n",
       " '0010001101': 0.005,\n",
       " '0010010010': 0.005,\n",
       " '0010011001': 0.005,\n",
       " '0010100010': 0.005,\n",
       " '0010100101': 0.005,\n",
       " '0010100110': 0.005,\n",
       " '0010101000': 0.005,\n",
       " '0010101111': 0.005,\n",
       " '0010111011': 0.005,\n",
       " '0010111110': 0.005,\n",
       " '0011001001': 0.005,\n",
       " '0011001100': 0.005,\n",
       " '0011010101': 0.005,\n",
       " '0011010110': 0.005,\n",
       " '0011010111': 0.005,\n",
       " '0011100100': 0.005,\n",
       " '0011100101': 0.005,\n",
       " '0011101000': 0.005,\n",
       " '0011110011': 0.005,\n",
       " '0011111010': 0.005,\n",
       " '0011111110': 0.005,\n",
       " '0100000011': 0.005,\n",
       " '0100000100': 0.005,\n",
       " '0100001110': 0.005,\n",
       " '0100001111': 0.005,\n",
       " '0100010100': 0.005,\n",
       " '0100100001': 0.005,\n",
       " '0100101000': 0.005,\n",
       " '0100101001': 0.005,\n",
       " '0100101111': 0.005,\n",
       " '0100110000': 0.005,\n",
       " '0100110001': 0.005,\n",
       " '0100110100': 0.005,\n",
       " '0100111111': 0.005,\n",
       " '0101000010': 0.005,\n",
       " '0101000101': 0.005,\n",
       " '0101000110': 0.005,\n",
       " '0101100001': 0.005,\n",
       " '0101110000': 0.01,\n",
       " '0101110100': 0.005,\n",
       " '0101111000': 0.005,\n",
       " '0101111001': 0.005,\n",
       " '0110001000': 0.005,\n",
       " '0110010110': 0.005,\n",
       " '0110010111': 0.005,\n",
       " '0110100000': 0.005,\n",
       " '0110101000': 0.01,\n",
       " '0110110001': 0.005,\n",
       " '0110110010': 0.005,\n",
       " '0110110111': 0.005,\n",
       " '0110111001': 0.005,\n",
       " '0110111100': 0.005,\n",
       " '0110111110': 0.005,\n",
       " '0110111111': 0.005,\n",
       " '0111000000': 0.005,\n",
       " '0111000001': 0.005,\n",
       " '0111001001': 0.005,\n",
       " '0111010000': 0.005,\n",
       " '0111010011': 0.005,\n",
       " '0111011000': 0.005,\n",
       " '0111011101': 0.005,\n",
       " '0111011111': 0.005,\n",
       " '0111110110': 0.005,\n",
       " '1000000001': 0.005,\n",
       " '1000010101': 0.005,\n",
       " '1000010110': 0.005,\n",
       " '1000010111': 0.005,\n",
       " '1000011101': 0.005,\n",
       " '1000100100': 0.005,\n",
       " '1000101101': 0.005,\n",
       " '1000110001': 0.005,\n",
       " '1001000100': 0.005,\n",
       " '1001000101': 0.005,\n",
       " '1001000110': 0.01,\n",
       " '1001000111': 0.01,\n",
       " '1001001001': 0.005,\n",
       " '1001001100': 0.005,\n",
       " '1001001101': 0.01,\n",
       " '1001001111': 0.005,\n",
       " '1001010011': 0.005,\n",
       " '1001011000': 0.005,\n",
       " '1001011100': 0.005,\n",
       " '1001011101': 0.005,\n",
       " '1001011110': 0.005,\n",
       " '1001101001': 0.005,\n",
       " '1001101011': 0.005,\n",
       " '1001101100': 0.005,\n",
       " '1001110010': 0.005,\n",
       " '1001110100': 0.005,\n",
       " '1001110110': 0.005,\n",
       " '1001110111': 0.005,\n",
       " '1001111000': 0.01,\n",
       " '1001111100': 0.005,\n",
       " '1010001111': 0.005,\n",
       " '1010010011': 0.005,\n",
       " '1010010101': 0.005,\n",
       " '1010011011': 0.005,\n",
       " '1010011100': 0.01,\n",
       " '1010100000': 0.005,\n",
       " '1010100100': 0.005,\n",
       " '1010101010': 0.005,\n",
       " '1010101011': 0.005,\n",
       " '1010101110': 0.005,\n",
       " '1010110110': 0.005,\n",
       " '1010111010': 0.005,\n",
       " '1011000101': 0.01,\n",
       " '1011001010': 0.01,\n",
       " '1011001100': 0.005,\n",
       " '1011010000': 0.005,\n",
       " '1011010001': 0.005,\n",
       " '1011011011': 0.005,\n",
       " '1011011100': 0.005,\n",
       " '1011011101': 0.005,\n",
       " '1011100011': 0.005,\n",
       " '1011100110': 0.005,\n",
       " '1011101011': 0.01,\n",
       " '1011110000': 0.005,\n",
       " '1011110101': 0.01,\n",
       " '1100011000': 0.005,\n",
       " '1100011100': 0.005,\n",
       " '1100011111': 0.005,\n",
       " '1100101010': 0.005,\n",
       " '1100101100': 0.005,\n",
       " '1100110010': 0.005,\n",
       " '1100111001': 0.005,\n",
       " '1100111010': 0.005,\n",
       " '1101000001': 0.005,\n",
       " '1101001000': 0.005,\n",
       " '1101010000': 0.005,\n",
       " '1101010100': 0.005,\n",
       " '1101011010': 0.005,\n",
       " '1101100010': 0.005,\n",
       " '1101100100': 0.005,\n",
       " '1101101100': 0.005,\n",
       " '1101110111': 0.005,\n",
       " '1101111000': 0.005,\n",
       " '1101111010': 0.005,\n",
       " '1110000110': 0.01,\n",
       " '1110010001': 0.01,\n",
       " '1110010110': 0.005,\n",
       " '1110101101': 0.005,\n",
       " '1110110011': 0.005,\n",
       " '1110110110': 0.005,\n",
       " '1110110111': 0.005,\n",
       " '1110111100': 0.005,\n",
       " '1111000110': 0.005,\n",
       " '1111000111': 0.01,\n",
       " '1111001111': 0.005,\n",
       " '1111010011': 0.005,\n",
       " '1111011001': 0.005,\n",
       " '1111011010': 0.005,\n",
       " '1111100110': 0.005,\n",
       " '1111100111': 0.005,\n",
       " '1111101000': 0.005,\n",
       " '1111101010': 0.005,\n",
       " '1111110100': 0.005,\n",
       " '1111111110': 0.005}"
      ]
     },
     "execution_count": 1701,
     "metadata": {},
     "output_type": "execute_result"
    }
   ],
   "source": [
    "state_binary"
   ]
  },
  {
   "cell_type": "code",
   "execution_count": 1609,
   "metadata": {},
   "outputs": [
    {
     "name": "stderr",
     "output_type": "stream",
     "text": [
      "c:\\Users\\c5517\\python\\lib\\site-packages\\qiskit\\visualization\\circuit\\matplotlib.py:266: FutureWarning: The default matplotlib drawer scheme will be changed to \"iqp\" in a following release. To silence this warning, specify the current default explicitly as style=\"clifford\", or the new default as style=\"iqp\".\n",
      "  self._style, def_font_ratio = load_style(self._style)\n"
     ]
    },
    {
     "data": {
      "image/png": "[encoded data removed]",
      "text/plain": [
       "<Figure size 1110x204.68 with 1 Axes>"
      ]
     },
     "execution_count": 1609,
     "metadata": {},
     "output_type": "execute_result"
    }
   ],
   "source": [
    "circ__.draw('mpl')"
   ]
  },
  {
   "cell_type": "code",
   "execution_count": 1773,
   "metadata": {},
   "outputs": [
    {
     "data": {
      "text/plain": [
       "{'0000': 0.037794981140417704,\n",
       " '0001': 0.0102339305742513,\n",
       " '0010': 0.013644655371373769,\n",
       " '0011': 0.03264159295293146,\n",
       " '0100': 0.005971247438110513,\n",
       " '0101': 0.0017674905884139246,\n",
       " '0110': 0.02108734657765749,\n",
       " '0111': 0.005393965561424202,\n",
       " '1000': 0.2383314246848509,\n",
       " '1001': 0.22340829220731243,\n",
       " '1010': 0.1543133446835933,\n",
       " '1011': 0.07365124012446013,\n",
       " '1100': 0.05232779209745669,\n",
       " '1101': 0.019874499915953518,\n",
       " '1110': 0.0626740060338154,\n",
       " '1111': 0.04688419004797747}"
      ]
     },
     "execution_count": 1773,
     "metadata": {},
     "output_type": "execute_result"
    }
   ],
   "source": [
    "circ__ = circ.copy()\n",
    "# circ__.h(0)\n",
    "check = circ__.assign_parameters(optimized)\n",
    "result_dict_ = qi.Statevector.from_instruction(check).probabilities_dict()\n",
    "reversed_dict = {}\n",
    "for key, value in result_dict_.items():\n",
    "    reversed_key = key[::-1]  # Reverse the key\n",
    "    reversed_dict[reversed_key] = value\n",
    "    \n",
    "    \n",
    "bitstrings = [np.binary_repr(i, width = circ.num_qubits) for i in range(2**(circ.num_qubits))]\n",
    "zero_dict = {bits:0 for bits in bitstrings}\n",
    "for key, value in zero_dict.items():\n",
    "    if key not in reversed_dict:\n",
    "        reversed_dict[key] = value\n",
    "\n",
    "result_dict = {}\n",
    "for key, val in zero_dict.items():\n",
    "    if key in reversed_dict:\n",
    "        result_dict[key] = reversed_dict[key]\n",
    "\n",
    "result_dict"
   ]
  },
  {
   "cell_type": "code",
   "execution_count": 1768,
   "metadata": {},
   "outputs": [
    {
     "data": {
      "text/plain": [
       "{'0000': 0.025,\n",
       " '0001': 0.015,\n",
       " '0010': 0.005,\n",
       " '0011': 0.02,\n",
       " '0100': 0.01,\n",
       " '0101': 0.02,\n",
       " '0110': 0.02,\n",
       " '0111': 0.015,\n",
       " '1000': 0.215,\n",
       " '1001': 0.225,\n",
       " '1010': 0.145,\n",
       " '1011': 0.065,\n",
       " '1100': 0.04,\n",
       " '1101': 0.05,\n",
       " '1110': 0.08,\n",
       " '1111': 0.05}"
      ]
     },
     "execution_count": 1768,
     "metadata": {},
     "output_type": "execute_result"
    }
   ],
   "source": [
    "state1"
   ]
  },
  {
   "cell_type": "code",
   "execution_count": 821,
   "metadata": {},
   "outputs": [
    {
     "data": {
      "text/plain": [
       "[<matplotlib.lines.Line2D at 0x2a8e16a8760>]"
      ]
     },
     "execution_count": 821,
     "metadata": {},
     "output_type": "execute_result"
    },
    {
     "data": {
      "image/png": "[encoded data removed]",
      "text/plain": [
       "<Figure size 432x288 with 1 Axes>"
      ]
     },
     "metadata": {
      "needs_background": "light"
     },
     "output_type": "display_data"
    }
   ],
   "source": [
    "import matplotlib.pyplot as plt\n",
    "plt.plot(intermediate_cost)"
   ]
  }
 ],
 "metadata": {
  "kernelspec": {
   "display_name": "Python 3",
   "language": "python",
   "name": "python3"
  },
  "language_info": {
   "codemirror_mode": {
    "name": "ipython",
    "version": 3
   },
   "file_extension": ".py",
   "mimetype": "text/x-python",
   "name": "python",
   "nbconvert_exporter": "python",
   "pygments_lexer": "ipython3",
   "version": "3.8.0"
  }
 },
 "nbformat": 4,
 "nbformat_minor": 2
}
