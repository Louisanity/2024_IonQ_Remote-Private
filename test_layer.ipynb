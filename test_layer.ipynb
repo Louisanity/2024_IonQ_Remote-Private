{
  "cells": [
    {
      "cell_type": "markdown",
      "metadata": {
        "id": "ziQ5lN-_6Yqu"
      },
      "source": [
        "### Test of generating alternating single qubit and two qubit layers"
      ]
    },
    {
      "cell_type": "code",
      "source": [
        "!pip install qiskit\n",
        "!pip install pylatexenc\n",
        "!pip install qiskit_algorithms\n",
        "!pip install qiskit_aer"
      ],
      "metadata": {
        "colab": {
          "base_uri": "https://localhost:8080/"
        },
        "id": "DuMOBfhI7GSI",
        "outputId": "aef258dc-7992-4666-c001-cc86cc5e3fcf"
      },
      "execution_count": 14,
      "outputs": [
        {
          "output_type": "stream",
          "name": "stdout",
          "text": [
            "Requirement already satisfied: qiskit in /usr/local/lib/python3.10/dist-packages (0.46.0)\n",
            "Requirement already satisfied: qiskit-terra==0.46.0 in /usr/local/lib/python3.10/dist-packages (from qiskit) (0.46.0)\n",
            "Requirement already satisfied: rustworkx>=0.13.0 in /usr/local/lib/python3.10/dist-packages (from qiskit-terra==0.46.0->qiskit) (0.14.0)\n",
            "Requirement already satisfied: numpy<2,>=1.17 in /usr/local/lib/python3.10/dist-packages (from qiskit-terra==0.46.0->qiskit) (1.23.5)\n",
            "Requirement already satisfied: ply>=3.10 in /usr/local/lib/python3.10/dist-packages (from qiskit-terra==0.46.0->qiskit) (3.11)\n",
            "Requirement already satisfied: psutil>=5 in /usr/local/lib/python3.10/dist-packages (from qiskit-terra==0.46.0->qiskit) (5.9.5)\n",
            "Requirement already satisfied: scipy>=1.5 in /usr/local/lib/python3.10/dist-packages (from qiskit-terra==0.46.0->qiskit) (1.11.4)\n",
            "Requirement already satisfied: sympy>=1.3 in /usr/local/lib/python3.10/dist-packages (from qiskit-terra==0.46.0->qiskit) (1.12)\n",
            "Requirement already satisfied: dill>=0.3 in /usr/local/lib/python3.10/dist-packages (from qiskit-terra==0.46.0->qiskit) (0.3.8)\n",
            "Requirement already satisfied: python-dateutil>=2.8.0 in /usr/local/lib/python3.10/dist-packages (from qiskit-terra==0.46.0->qiskit) (2.8.2)\n",
            "Requirement already satisfied: stevedore>=3.0.0 in /usr/local/lib/python3.10/dist-packages (from qiskit-terra==0.46.0->qiskit) (5.1.0)\n",
            "Requirement already satisfied: symengine>=0.11 in /usr/local/lib/python3.10/dist-packages (from qiskit-terra==0.46.0->qiskit) (0.11.0)\n",
            "Requirement already satisfied: typing-extensions in /usr/local/lib/python3.10/dist-packages (from qiskit-terra==0.46.0->qiskit) (4.5.0)\n",
            "Requirement already satisfied: six>=1.5 in /usr/local/lib/python3.10/dist-packages (from python-dateutil>=2.8.0->qiskit-terra==0.46.0->qiskit) (1.16.0)\n",
            "Requirement already satisfied: pbr!=2.1.0,>=2.0.0 in /usr/local/lib/python3.10/dist-packages (from stevedore>=3.0.0->qiskit-terra==0.46.0->qiskit) (6.0.0)\n",
            "Requirement already satisfied: mpmath>=0.19 in /usr/local/lib/python3.10/dist-packages (from sympy>=1.3->qiskit-terra==0.46.0->qiskit) (1.3.0)\n",
            "Requirement already satisfied: pylatexenc in /usr/local/lib/python3.10/dist-packages (2.10)\n",
            "Requirement already satisfied: qiskit_algorithms in /usr/local/lib/python3.10/dist-packages (0.2.2)\n",
            "Requirement already satisfied: qiskit>=0.44 in /usr/local/lib/python3.10/dist-packages (from qiskit_algorithms) (0.46.0)\n",
            "Requirement already satisfied: scipy>=1.4 in /usr/local/lib/python3.10/dist-packages (from qiskit_algorithms) (1.11.4)\n",
            "Requirement already satisfied: numpy>=1.17 in /usr/local/lib/python3.10/dist-packages (from qiskit_algorithms) (1.23.5)\n",
            "Requirement already satisfied: qiskit-terra==0.46.0 in /usr/local/lib/python3.10/dist-packages (from qiskit>=0.44->qiskit_algorithms) (0.46.0)\n",
            "Requirement already satisfied: rustworkx>=0.13.0 in /usr/local/lib/python3.10/dist-packages (from qiskit-terra==0.46.0->qiskit>=0.44->qiskit_algorithms) (0.14.0)\n",
            "Requirement already satisfied: ply>=3.10 in /usr/local/lib/python3.10/dist-packages (from qiskit-terra==0.46.0->qiskit>=0.44->qiskit_algorithms) (3.11)\n",
            "Requirement already satisfied: psutil>=5 in /usr/local/lib/python3.10/dist-packages (from qiskit-terra==0.46.0->qiskit>=0.44->qiskit_algorithms) (5.9.5)\n",
            "Requirement already satisfied: sympy>=1.3 in /usr/local/lib/python3.10/dist-packages (from qiskit-terra==0.46.0->qiskit>=0.44->qiskit_algorithms) (1.12)\n",
            "Requirement already satisfied: dill>=0.3 in /usr/local/lib/python3.10/dist-packages (from qiskit-terra==0.46.0->qiskit>=0.44->qiskit_algorithms) (0.3.8)\n",
            "Requirement already satisfied: python-dateutil>=2.8.0 in /usr/local/lib/python3.10/dist-packages (from qiskit-terra==0.46.0->qiskit>=0.44->qiskit_algorithms) (2.8.2)\n",
            "Requirement already satisfied: stevedore>=3.0.0 in /usr/local/lib/python3.10/dist-packages (from qiskit-terra==0.46.0->qiskit>=0.44->qiskit_algorithms) (5.1.0)\n",
            "Requirement already satisfied: symengine>=0.11 in /usr/local/lib/python3.10/dist-packages (from qiskit-terra==0.46.0->qiskit>=0.44->qiskit_algorithms) (0.11.0)\n",
            "Requirement already satisfied: typing-extensions in /usr/local/lib/python3.10/dist-packages (from qiskit-terra==0.46.0->qiskit>=0.44->qiskit_algorithms) (4.5.0)\n",
            "Requirement already satisfied: six>=1.5 in /usr/local/lib/python3.10/dist-packages (from python-dateutil>=2.8.0->qiskit-terra==0.46.0->qiskit>=0.44->qiskit_algorithms) (1.16.0)\n",
            "Requirement already satisfied: pbr!=2.1.0,>=2.0.0 in /usr/local/lib/python3.10/dist-packages (from stevedore>=3.0.0->qiskit-terra==0.46.0->qiskit>=0.44->qiskit_algorithms) (6.0.0)\n",
            "Requirement already satisfied: mpmath>=0.19 in /usr/local/lib/python3.10/dist-packages (from sympy>=1.3->qiskit-terra==0.46.0->qiskit>=0.44->qiskit_algorithms) (1.3.0)\n",
            "Collecting qiskit_aer\n",
            "  Downloading qiskit_aer-0.13.2-cp310-cp310-manylinux_2_17_x86_64.manylinux2014_x86_64.whl (12.3 MB)\n",
            "\u001b[2K     \u001b[90m━━━━━━━━━━━━━━━━━━━━━━━━━━━━━━━━━━━━━━━━\u001b[0m \u001b[32m12.3/12.3 MB\u001b[0m \u001b[31m65.1 MB/s\u001b[0m eta \u001b[36m0:00:00\u001b[0m\n",
            "\u001b[?25hRequirement already satisfied: qiskit>=0.45.0 in /usr/local/lib/python3.10/dist-packages (from qiskit_aer) (0.46.0)\n",
            "Requirement already satisfied: numpy>=1.16.3 in /usr/local/lib/python3.10/dist-packages (from qiskit_aer) (1.23.5)\n",
            "Requirement already satisfied: scipy>=1.0 in /usr/local/lib/python3.10/dist-packages (from qiskit_aer) (1.11.4)\n",
            "Requirement already satisfied: psutil>=5 in /usr/local/lib/python3.10/dist-packages (from qiskit_aer) (5.9.5)\n",
            "Requirement already satisfied: qiskit-terra==0.46.0 in /usr/local/lib/python3.10/dist-packages (from qiskit>=0.45.0->qiskit_aer) (0.46.0)\n",
            "Requirement already satisfied: rustworkx>=0.13.0 in /usr/local/lib/python3.10/dist-packages (from qiskit-terra==0.46.0->qiskit>=0.45.0->qiskit_aer) (0.14.0)\n",
            "Requirement already satisfied: ply>=3.10 in /usr/local/lib/python3.10/dist-packages (from qiskit-terra==0.46.0->qiskit>=0.45.0->qiskit_aer) (3.11)\n",
            "Requirement already satisfied: sympy>=1.3 in /usr/local/lib/python3.10/dist-packages (from qiskit-terra==0.46.0->qiskit>=0.45.0->qiskit_aer) (1.12)\n",
            "Requirement already satisfied: dill>=0.3 in /usr/local/lib/python3.10/dist-packages (from qiskit-terra==0.46.0->qiskit>=0.45.0->qiskit_aer) (0.3.8)\n",
            "Requirement already satisfied: python-dateutil>=2.8.0 in /usr/local/lib/python3.10/dist-packages (from qiskit-terra==0.46.0->qiskit>=0.45.0->qiskit_aer) (2.8.2)\n",
            "Requirement already satisfied: stevedore>=3.0.0 in /usr/local/lib/python3.10/dist-packages (from qiskit-terra==0.46.0->qiskit>=0.45.0->qiskit_aer) (5.1.0)\n",
            "Requirement already satisfied: symengine>=0.11 in /usr/local/lib/python3.10/dist-packages (from qiskit-terra==0.46.0->qiskit>=0.45.0->qiskit_aer) (0.11.0)\n",
            "Requirement already satisfied: typing-extensions in /usr/local/lib/python3.10/dist-packages (from qiskit-terra==0.46.0->qiskit>=0.45.0->qiskit_aer) (4.5.0)\n",
            "Requirement already satisfied: six>=1.5 in /usr/local/lib/python3.10/dist-packages (from python-dateutil>=2.8.0->qiskit-terra==0.46.0->qiskit>=0.45.0->qiskit_aer) (1.16.0)\n",
            "Requirement already satisfied: pbr!=2.1.0,>=2.0.0 in /usr/local/lib/python3.10/dist-packages (from stevedore>=3.0.0->qiskit-terra==0.46.0->qiskit>=0.45.0->qiskit_aer) (6.0.0)\n",
            "Requirement already satisfied: mpmath>=0.19 in /usr/local/lib/python3.10/dist-packages (from sympy>=1.3->qiskit-terra==0.46.0->qiskit>=0.45.0->qiskit_aer) (1.3.0)\n",
            "Installing collected packages: qiskit_aer\n",
            "Successfully installed qiskit_aer-0.13.2\n"
          ]
        }
      ]
    },
    {
      "cell_type": "code",
      "execution_count": 85,
      "metadata": {
        "id": "Bq-k0KU56Yqv"
      },
      "outputs": [],
      "source": [
        "import qiskit\n",
        "from qiskit import QuantumCircuit\n",
        "import numpy as np\n",
        "from layers import alternating_sq_2q_layers"
      ]
    },
    {
      "cell_type": "code",
      "execution_count": 97,
      "metadata": {
        "colab": {
          "base_uri": "https://localhost:8080/",
          "height": 255
        },
        "id": "pYYBMw8k6Yqv",
        "outputId": "d3059373-8db7-4416-ae9c-38208681a58d"
      },
      "outputs": [
        {
          "output_type": "execute_result",
          "data": {
            "text/plain": [
              "<Figure size 1040x284.278 with 1 Axes>"
            ],
            "image/png": "[encoded data removed]"
          },
          "metadata": {},
          "execution_count": 97
        }
      ],
      "source": [
        "connectivity = [[0,1], [1,2], [0,2]]\n",
        "circ = alternating_sq_2q_layers(3,2,'RXX', connectivity)\n",
        "# circ.decompose().draw('mpl')\n",
        "circ.draw('mpl')"
      ]
    },
    {
      "cell_type": "code",
      "execution_count": 99,
      "metadata": {
        "colab": {
          "base_uri": "https://localhost:8080/"
        },
        "id": "NywNuRA-6Yqv",
        "outputId": "ec51e3d5-4ef2-440f-ddeb-6bf51e77e7b9"
      },
      "outputs": [
        {
          "output_type": "stream",
          "name": "stdout",
          "text": [
            "OPENQASM 2.0;\n",
            "include \"qelib1.inc\";\n",
            "qreg q[3];\n",
            "rx(1.0) q[0];\n",
            "rz(1.0) q[0];\n",
            "rx(1.0) q[1];\n",
            "rz(1.0) q[1];\n",
            "rx(1.0) q[2];\n",
            "rz(1.0) q[2];\n",
            "rxx(1.0) q[0],q[1];\n",
            "rxx(1.0) q[1],q[2];\n",
            "rxx(1.0) q[0],q[2];\n",
            "rz(1.0) q[0];\n",
            "rx(1.0) q[0];\n",
            "rz(1.0) q[0];\n",
            "rz(1.0) q[1];\n",
            "rx(1.0) q[1];\n",
            "rz(1.0) q[1];\n",
            "rz(1.0) q[2];\n",
            "rx(1.0) q[2];\n",
            "rz(1.0) q[2];\n",
            "rxx(1.0) q[0],q[1];\n",
            "rxx(1.0) q[1],q[2];\n",
            "rxx(1.0) q[0],q[2];\n"
          ]
        }
      ],
      "source": [
        "# qasm convert\n",
        "print(qiskit.qasm2.dumps(circ.assign_parameters(np.ones(21))))"
      ]
    },
    {
      "cell_type": "code",
      "execution_count": 106,
      "metadata": {
        "id": "9UFemx7F6Yqw"
      },
      "outputs": [],
      "source": [
        "from qiskit_algorithms.optimizers import L_BFGS_B, COBYLA\n",
        "from qiskit_aer import StatevectorSimulator\n",
        "from qiskit.quantum_info import Statevector\n",
        "import qiskit.quantum_info as qi\n",
        "\n",
        "intermediate_cost = []\n",
        "intermediate_params = []\n",
        "\n",
        "def cost(params, target):\n",
        "    '''\n",
        "    target: dict\n",
        "            count_dictionary obtained from the probe circuit\n",
        "    params:\n",
        "    '''\n",
        "    connectivity = [[0,1], [1,2], [0,2]]\n",
        "    circ = alternating_sq_2q_layers(3,2,'RXX', connectivity, measurement=False).assign_parameters(params)\n",
        "    result_dict = qi.Statevector.from_instruction(circ).probabilities_dict()\n",
        "    cost = 0\n",
        "    for (key1, value1), (key2, value2) in zip(target.items(), result_dict.items()):\n",
        "        cost += (value1-value2)**2\n",
        "\n",
        "    intermediate_cost.append(cost)\n",
        "    intermediate_params.append(params)\n",
        "    return cost\n",
        "\n",
        "def callback_func(params, target):\n",
        "    cost_value = cost(params, target)  # Calculate the cost at the current iteration\n",
        "    intermediate_cost.append(cost_value)\n",
        "    intermediate_params.append(params)"
      ]
    },
    {
      "cell_type": "code",
      "execution_count": 107,
      "metadata": {
        "colab": {
          "base_uri": "https://localhost:8080/"
        },
        "id": "g4aghfo26Yqw",
        "outputId": "e047b06c-e1a8-4789-f64a-f538a11e82d4"
      },
      "outputs": [
        {
          "output_type": "execute_result",
          "data": {
            "text/plain": [
              "{'000': 0.21420133513856127,\n",
              " '001': 0.08033388755180032,\n",
              " '010': 0.08033388755180029,\n",
              " '011': 0.05497454424205233,\n",
              " '100': 0.08033388755180035,\n",
              " '101': 0.05497454424205238,\n",
              " '110': 0.05497454424205229,\n",
              " '111': 0.37987336947988226}"
            ]
          },
          "metadata": {},
          "execution_count": 107
        }
      ],
      "source": [
        "import torch\n",
        "import torch.optim as optim\n",
        "import qiskit.quantum_info as qi\n",
        "\n",
        "params = np.ones(21)\n",
        "circ = alternating_sq_2q_layers(3,2,'RXX', connectivity, measurement=False).assign_parameters(params)\n",
        "target = qi.Statevector.from_instruction(circ).probabilities_dict()\n",
        "target\n"
      ]
    },
    {
      "cell_type": "code",
      "source": [
        "target = {'000': 0.47, '111': 0.53}\n",
        "target"
      ],
      "metadata": {
        "colab": {
          "base_uri": "https://localhost:8080/"
        },
        "id": "T2XIfjVAVRrU",
        "outputId": "ab15071e-0a16-45ff-f262-f20b862da8f1"
      },
      "execution_count": 102,
      "outputs": [
        {
          "output_type": "execute_result",
          "data": {
            "text/plain": [
              "{'000': 0.47, '111': 0.53}"
            ]
          },
          "metadata": {},
          "execution_count": 102
        }
      ]
    },
    {
      "cell_type": "code",
      "source": [],
      "metadata": {
        "id": "axrZNIYvjXLU"
      },
      "execution_count": null,
      "outputs": []
    },
    {
      "cell_type": "code",
      "execution_count": 109,
      "metadata": {
        "colab": {
          "base_uri": "https://localhost:8080/"
        },
        "id": "K0jLuph76Yqw",
        "outputId": "ca24084b-ff40-471e-b87e-d454814751b5"
      },
      "outputs": [
        {
          "output_type": "execute_result",
          "data": {
            "text/plain": [
              "0.7902105205305846"
            ]
          },
          "metadata": {},
          "execution_count": 109
        }
      ],
      "source": [
        "from scipy.optimize import minimize\n",
        "parameters = [np.random.random() for _ in range(21)]\n",
        "out = minimize(cost, x0=parameters, args = target ,method=\"L-BFGS-B\", options={'maxiter':100})\n",
        "cost(out.jac,target)"
      ]
    },
    {
      "cell_type": "code",
      "execution_count": 110,
      "metadata": {
        "colab": {
          "base_uri": "https://localhost:8080/"
        },
        "id": "WAQdqEns6Yqw",
        "outputId": "d832e06e-9b97-4ae8-81f3-498150f30383"
      },
      "outputs": [
        {
          "output_type": "execute_result",
          "data": {
            "text/plain": [
              "array([ 1.67938850e-06,  1.19542703e-06, -2.45110174e-06, -7.17363773e-07,\n",
              "        1.38175004e-06, -1.28975719e-06,  4.92425952e-06,  1.37882355e-06,\n",
              "        2.02234335e-06, -1.52691216e-07, -1.96186387e-07,  9.06356759e-07,\n",
              "       -1.75286749e-06,  2.91015597e-06, -1.96479843e-06,  1.18817507e-07,\n",
              "        1.40131934e-06,  3.91524241e-07, -6.47034042e-07,  2.50266972e-06,\n",
              "       -3.03647031e-06])"
            ]
          },
          "metadata": {},
          "execution_count": 110
        }
      ],
      "source": [
        "out.jac"
      ]
    },
    {
      "cell_type": "code",
      "execution_count": 111,
      "metadata": {
        "colab": {
          "base_uri": "https://localhost:8080/"
        },
        "id": "yjfbOpJB6Yqw",
        "outputId": "f0d1706b-c312-4e0d-9a71-fbed27d411ba"
      },
      "outputs": [
        {
          "output_type": "execute_result",
          "data": {
            "text/plain": [
              "2.345872288659441e-10"
            ]
          },
          "metadata": {},
          "execution_count": 111
        }
      ],
      "source": [
        "cost(intermediate_params[np.argmin(intermediate_cost)],target)"
      ]
    },
    {
      "cell_type": "code",
      "execution_count": 113,
      "metadata": {
        "colab": {
          "base_uri": "https://localhost:8080/"
        },
        "id": "UvqPrDRx6Yqw",
        "outputId": "ccf9fc7a-71db-40f5-c2c5-608604535b9e"
      },
      "outputs": [
        {
          "output_type": "execute_result",
          "data": {
            "text/plain": [
              "{'000': 0.2142021881550795,\n",
              " '001': 0.0803362546904668,\n",
              " '010': 0.08032555994565764,\n",
              " '011': 0.054966942218943014,\n",
              " '100': 0.0803399300544422,\n",
              " '101': 0.05497159615903314,\n",
              " '110': 0.054981552768951246,\n",
              " '111': 0.3798759760074265}"
            ]
          },
          "metadata": {},
          "execution_count": 113
        }
      ],
      "source": [
        "check = alternating_sq_2q_layers(3,2,'RXX', connectivity, measurement=False).assign_parameters(intermediate_params[np.argmin(intermediate_cost)])\n",
        "check_result = qi.Statevector.from_instruction(check).probabilities_dict()\n",
        "check_result"
      ]
    },
    {
      "cell_type": "code",
      "source": [
        "check.draw('mpl')"
      ],
      "metadata": {
        "colab": {
          "base_uri": "https://localhost:8080/",
          "height": 255
        },
        "id": "6yCDeyoVVe_-",
        "outputId": "74757263-cc81-492e-bd89-be306f5e0f87"
      },
      "execution_count": 114,
      "outputs": [
        {
          "output_type": "execute_result",
          "data": {
            "text/plain": [
              "<Figure size 1040x284.278 with 1 Axes>"
            ],
            "image/png": "[encoded data removed]"
          },
          "metadata": {},
          "execution_count": 114
        }
      ]
    },
    {
      "cell_type": "code",
      "execution_count": 42,
      "metadata": {
        "colab": {
          "base_uri": "https://localhost:8080/",
          "height": 447
        },
        "id": "vc0A6QPB6Yqw",
        "outputId": "36292a98-0e71-4100-fff2-5a05e5ad945c"
      },
      "outputs": [
        {
          "output_type": "execute_result",
          "data": {
            "text/plain": [
              "[<matplotlib.lines.Line2D at 0x78b9e7791180>]"
            ]
          },
          "metadata": {},
          "execution_count": 42
        },
        {
          "output_type": "display_data",
          "data": {
            "text/plain": [
              "<Figure size 640x480 with 1 Axes>"
            ],
            "image/png": "[encoded data removed]"
          },
          "metadata": {}
        }
      ],
      "source": [
        "import matplotlib.pyplot as plt\n",
        "plt.plot(intermediate_cost)"
      ]
    },
    {
      "cell_type": "code",
      "source": [],
      "metadata": {
        "id": "2LILx4dRUn_a"
      },
      "execution_count": null,
      "outputs": []
    }
  ],
  "metadata": {
    "kernelspec": {
      "display_name": "Python 3",
      "language": "python",
      "name": "python3"
    },
    "language_info": {
      "codemirror_mode": {
        "name": "ipython",
        "version": 3
      },
      "file_extension": ".py",
      "mimetype": "text/x-python",
      "name": "python",
      "nbconvert_exporter": "python",
      "pygments_lexer": "ipython3",
      "version": "3.8.0"
    },
    "colab": {
      "provenance": []
    }
  },
  "nbformat": 4,
  "nbformat_minor": 0
}