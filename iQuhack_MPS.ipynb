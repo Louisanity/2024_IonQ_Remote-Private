{
  "nbformat": 4,
  "nbformat_minor": 0,
  "metadata": {
    "colab": {
      "provenance": []
    },
    "kernelspec": {
      "name": "python3",
      "display_name": "Python 3"
    },
    "language_info": {
      "name": "python"
    }
  },
  "cells": [
    {
      "cell_type": "code",
      "source": [
        "!pip install qbraid"
      ],
      "metadata": {
        "colab": {
          "base_uri": "https://localhost:8080/"
        },
        "id": "Kd2cIXdDHbAD",
        "outputId": "b375c63b-d052-445a-b450-271710f07222"
      },
      "execution_count": 20,
      "outputs": [
        {
          "output_type": "stream",
          "name": "stdout",
          "text": [
            "Requirement already satisfied: qbraid in /usr/local/lib/python3.10/dist-packages (0.5.0)\n",
            "Requirement already satisfied: networkx<4.0,>=2.5 in /usr/local/lib/python3.10/dist-packages (from qbraid) (3.2.1)\n",
            "Requirement already satisfied: numpy<1.27,>=1.17 in /usr/local/lib/python3.10/dist-packages (from qbraid) (1.23.5)\n",
            "Requirement already satisfied: openqasm3[parser]<0.6.0,>=0.4.0 in /usr/local/lib/python3.10/dist-packages (from qbraid) (0.5.0)\n",
            "Requirement already satisfied: ply>=3.6 in /usr/local/lib/python3.10/dist-packages (from qbraid) (3.11)\n",
            "Requirement already satisfied: requests>=2.28.0 in /usr/local/lib/python3.10/dist-packages (from qbraid) (2.31.0)\n",
            "Requirement already satisfied: antlr4-python3-runtime<4.14,>=4.7 in /usr/local/lib/python3.10/dist-packages (from openqasm3[parser]<0.6.0,>=0.4.0->qbraid) (4.13.1)\n",
            "Requirement already satisfied: charset-normalizer<4,>=2 in /usr/local/lib/python3.10/dist-packages (from requests>=2.28.0->qbraid) (3.3.2)\n",
            "Requirement already satisfied: idna<4,>=2.5 in /usr/local/lib/python3.10/dist-packages (from requests>=2.28.0->qbraid) (3.6)\n",
            "Requirement already satisfied: urllib3<3,>=1.21.1 in /usr/local/lib/python3.10/dist-packages (from requests>=2.28.0->qbraid) (2.0.7)\n",
            "Requirement already satisfied: certifi>=2017.4.17 in /usr/local/lib/python3.10/dist-packages (from requests>=2.28.0->qbraid) (2023.11.17)\n"
          ]
        }
      ]
    },
    {
      "cell_type": "code",
      "execution_count": 21,
      "metadata": {
        "id": "URGC26DyEU4C"
      },
      "outputs": [],
      "source": [
        "from qbraid.api import QbraidSession\n",
        "from server import Server\n",
        "\n",
        "session = QbraidSession(api_key=\"80tk7wzbi8v\")\n",
        "server = Server(qbraid_session=session)"
      ]
    },
    {
      "cell_type": "code",
      "source": [
        "server"
      ],
      "metadata": {
        "colab": {
          "base_uri": "https://localhost:8080/"
        },
        "id": "I6eYxkGvHliv",
        "outputId": "5e17291c-bc01-4029-b6bf-ddea5e79c99a"
      },
      "execution_count": 22,
      "outputs": [
        {
          "output_type": "execute_result",
          "data": {
            "text/plain": [
              "<server.Server at 0x7e011994a800>"
            ]
          },
          "metadata": {},
          "execution_count": 22
        }
      ]
    },
    {
      "cell_type": "code",
      "source": [
        "# server.register(\"lame_attack\")"
      ],
      "metadata": {
        "id": "at8rTJwIHrTN"
      },
      "execution_count": 4,
      "outputs": []
    },
    {
      "cell_type": "code",
      "source": [
        "!pip install 'qbraid[cirq]'\n",
        "!pip install 'qbraid[qiskit]'"
      ],
      "metadata": {
        "colab": {
          "base_uri": "https://localhost:8080/"
        },
        "id": "41lTNOUFPc0A",
        "outputId": "b777c000-f246-4561-dcba-e1f2bb61747c"
      },
      "execution_count": 23,
      "outputs": [
        {
          "output_type": "stream",
          "name": "stdout",
          "text": [
            "Requirement already satisfied: qbraid[cirq] in /usr/local/lib/python3.10/dist-packages (0.5.0)\n",
            "Requirement already satisfied: networkx<4.0,>=2.5 in /usr/local/lib/python3.10/dist-packages (from qbraid[cirq]) (3.2.1)\n",
            "Requirement already satisfied: numpy<1.27,>=1.17 in /usr/local/lib/python3.10/dist-packages (from qbraid[cirq]) (1.23.5)\n",
            "Requirement already satisfied: openqasm3[parser]<0.6.0,>=0.4.0 in /usr/local/lib/python3.10/dist-packages (from qbraid[cirq]) (0.5.0)\n",
            "Requirement already satisfied: ply>=3.6 in /usr/local/lib/python3.10/dist-packages (from qbraid[cirq]) (3.11)\n",
            "Requirement already satisfied: requests>=2.28.0 in /usr/local/lib/python3.10/dist-packages (from qbraid[cirq]) (2.31.0)\n",
            "Requirement already satisfied: cirq-core<1.4.0,>=1.3.0 in /usr/local/lib/python3.10/dist-packages (from qbraid[cirq]) (1.3.0)\n",
            "Requirement already satisfied: duet~=0.2.8 in /usr/local/lib/python3.10/dist-packages (from cirq-core<1.4.0,>=1.3.0->qbraid[cirq]) (0.2.9)\n",
            "Requirement already satisfied: matplotlib~=3.0 in /usr/local/lib/python3.10/dist-packages (from cirq-core<1.4.0,>=1.3.0->qbraid[cirq]) (3.7.1)\n",
            "Requirement already satisfied: pandas in /usr/local/lib/python3.10/dist-packages (from cirq-core<1.4.0,>=1.3.0->qbraid[cirq]) (1.5.3)\n",
            "Requirement already satisfied: sortedcontainers~=2.0 in /usr/local/lib/python3.10/dist-packages (from cirq-core<1.4.0,>=1.3.0->qbraid[cirq]) (2.4.0)\n",
            "Requirement already satisfied: scipy in /usr/local/lib/python3.10/dist-packages (from cirq-core<1.4.0,>=1.3.0->qbraid[cirq]) (1.11.4)\n",
            "Requirement already satisfied: sympy in /usr/local/lib/python3.10/dist-packages (from cirq-core<1.4.0,>=1.3.0->qbraid[cirq]) (1.12)\n",
            "Requirement already satisfied: typing-extensions>=4.2 in /usr/local/lib/python3.10/dist-packages (from cirq-core<1.4.0,>=1.3.0->qbraid[cirq]) (4.5.0)\n",
            "Requirement already satisfied: tqdm in /usr/local/lib/python3.10/dist-packages (from cirq-core<1.4.0,>=1.3.0->qbraid[cirq]) (4.66.1)\n",
            "Requirement already satisfied: antlr4-python3-runtime<4.14,>=4.7 in /usr/local/lib/python3.10/dist-packages (from openqasm3[parser]<0.6.0,>=0.4.0->qbraid[cirq]) (4.13.1)\n",
            "Requirement already satisfied: charset-normalizer<4,>=2 in /usr/local/lib/python3.10/dist-packages (from requests>=2.28.0->qbraid[cirq]) (3.3.2)\n",
            "Requirement already satisfied: idna<4,>=2.5 in /usr/local/lib/python3.10/dist-packages (from requests>=2.28.0->qbraid[cirq]) (3.6)\n",
            "Requirement already satisfied: urllib3<3,>=1.21.1 in /usr/local/lib/python3.10/dist-packages (from requests>=2.28.0->qbraid[cirq]) (2.0.7)\n",
            "Requirement already satisfied: certifi>=2017.4.17 in /usr/local/lib/python3.10/dist-packages (from requests>=2.28.0->qbraid[cirq]) (2023.11.17)\n",
            "Requirement already satisfied: contourpy>=1.0.1 in /usr/local/lib/python3.10/dist-packages (from matplotlib~=3.0->cirq-core<1.4.0,>=1.3.0->qbraid[cirq]) (1.2.0)\n",
            "Requirement already satisfied: cycler>=0.10 in /usr/local/lib/python3.10/dist-packages (from matplotlib~=3.0->cirq-core<1.4.0,>=1.3.0->qbraid[cirq]) (0.12.1)\n",
            "Requirement already satisfied: fonttools>=4.22.0 in /usr/local/lib/python3.10/dist-packages (from matplotlib~=3.0->cirq-core<1.4.0,>=1.3.0->qbraid[cirq]) (4.47.2)\n",
            "Requirement already satisfied: kiwisolver>=1.0.1 in /usr/local/lib/python3.10/dist-packages (from matplotlib~=3.0->cirq-core<1.4.0,>=1.3.0->qbraid[cirq]) (1.4.5)\n",
            "Requirement already satisfied: packaging>=20.0 in /usr/local/lib/python3.10/dist-packages (from matplotlib~=3.0->cirq-core<1.4.0,>=1.3.0->qbraid[cirq]) (23.2)\n",
            "Requirement already satisfied: pillow>=6.2.0 in /usr/local/lib/python3.10/dist-packages (from matplotlib~=3.0->cirq-core<1.4.0,>=1.3.0->qbraid[cirq]) (9.4.0)\n",
            "Requirement already satisfied: pyparsing>=2.3.1 in /usr/local/lib/python3.10/dist-packages (from matplotlib~=3.0->cirq-core<1.4.0,>=1.3.0->qbraid[cirq]) (3.1.1)\n",
            "Requirement already satisfied: python-dateutil>=2.7 in /usr/local/lib/python3.10/dist-packages (from matplotlib~=3.0->cirq-core<1.4.0,>=1.3.0->qbraid[cirq]) (2.8.2)\n",
            "Requirement already satisfied: pytz>=2020.1 in /usr/local/lib/python3.10/dist-packages (from pandas->cirq-core<1.4.0,>=1.3.0->qbraid[cirq]) (2023.4)\n",
            "Requirement already satisfied: mpmath>=0.19 in /usr/local/lib/python3.10/dist-packages (from sympy->cirq-core<1.4.0,>=1.3.0->qbraid[cirq]) (1.3.0)\n",
            "Requirement already satisfied: six>=1.5 in /usr/local/lib/python3.10/dist-packages (from python-dateutil>=2.7->matplotlib~=3.0->cirq-core<1.4.0,>=1.3.0->qbraid[cirq]) (1.16.0)\n",
            "Requirement already satisfied: qbraid[qiskit] in /usr/local/lib/python3.10/dist-packages (0.5.0)\n",
            "Requirement already satisfied: networkx<4.0,>=2.5 in /usr/local/lib/python3.10/dist-packages (from qbraid[qiskit]) (3.2.1)\n",
            "Requirement already satisfied: numpy<1.27,>=1.17 in /usr/local/lib/python3.10/dist-packages (from qbraid[qiskit]) (1.23.5)\n",
            "Requirement already satisfied: openqasm3[parser]<0.6.0,>=0.4.0 in /usr/local/lib/python3.10/dist-packages (from qbraid[qiskit]) (0.5.0)\n",
            "Requirement already satisfied: ply>=3.6 in /usr/local/lib/python3.10/dist-packages (from qbraid[qiskit]) (3.11)\n",
            "Requirement already satisfied: requests>=2.28.0 in /usr/local/lib/python3.10/dist-packages (from qbraid[qiskit]) (2.31.0)\n",
            "Requirement already satisfied: qiskit<0.46.0,>=0.44.0 in /usr/local/lib/python3.10/dist-packages (from qbraid[qiskit]) (0.45.3)\n",
            "Requirement already satisfied: qiskit-ibm-provider<0.9.0,>=0.5.3 in /usr/local/lib/python3.10/dist-packages (from qbraid[qiskit]) (0.8.0)\n",
            "Requirement already satisfied: antlr4-python3-runtime<4.14,>=4.7 in /usr/local/lib/python3.10/dist-packages (from openqasm3[parser]<0.6.0,>=0.4.0->qbraid[qiskit]) (4.13.1)\n",
            "Requirement already satisfied: qiskit-terra==0.45.3 in /usr/local/lib/python3.10/dist-packages (from qiskit<0.46.0,>=0.44.0->qbraid[qiskit]) (0.45.3)\n",
            "Requirement already satisfied: rustworkx>=0.13.0 in /usr/local/lib/python3.10/dist-packages (from qiskit-terra==0.45.3->qiskit<0.46.0,>=0.44.0->qbraid[qiskit]) (0.14.0)\n",
            "Requirement already satisfied: psutil>=5 in /usr/local/lib/python3.10/dist-packages (from qiskit-terra==0.45.3->qiskit<0.46.0,>=0.44.0->qbraid[qiskit]) (5.9.5)\n",
            "Requirement already satisfied: scipy>=1.5 in /usr/local/lib/python3.10/dist-packages (from qiskit-terra==0.45.3->qiskit<0.46.0,>=0.44.0->qbraid[qiskit]) (1.11.4)\n",
            "Requirement already satisfied: sympy>=1.3 in /usr/local/lib/python3.10/dist-packages (from qiskit-terra==0.45.3->qiskit<0.46.0,>=0.44.0->qbraid[qiskit]) (1.12)\n",
            "Requirement already satisfied: dill>=0.3 in /usr/local/lib/python3.10/dist-packages (from qiskit-terra==0.45.3->qiskit<0.46.0,>=0.44.0->qbraid[qiskit]) (0.3.8)\n",
            "Requirement already satisfied: python-dateutil>=2.8.0 in /usr/local/lib/python3.10/dist-packages (from qiskit-terra==0.45.3->qiskit<0.46.0,>=0.44.0->qbraid[qiskit]) (2.8.2)\n",
            "Requirement already satisfied: stevedore>=3.0.0 in /usr/local/lib/python3.10/dist-packages (from qiskit-terra==0.45.3->qiskit<0.46.0,>=0.44.0->qbraid[qiskit]) (5.1.0)\n",
            "Requirement already satisfied: symengine!=0.10.0,>=0.9 in /usr/local/lib/python3.10/dist-packages (from qiskit-terra==0.45.3->qiskit<0.46.0,>=0.44.0->qbraid[qiskit]) (0.11.0)\n",
            "Requirement already satisfied: typing-extensions in /usr/local/lib/python3.10/dist-packages (from qiskit-terra==0.45.3->qiskit<0.46.0,>=0.44.0->qbraid[qiskit]) (4.5.0)\n",
            "Requirement already satisfied: requests-ntlm>=1.1.0 in /usr/local/lib/python3.10/dist-packages (from qiskit-ibm-provider<0.9.0,>=0.5.3->qbraid[qiskit]) (1.2.0)\n",
            "Requirement already satisfied: urllib3>=1.21.1 in /usr/local/lib/python3.10/dist-packages (from qiskit-ibm-provider<0.9.0,>=0.5.3->qbraid[qiskit]) (2.0.7)\n",
            "Requirement already satisfied: websocket-client>=1.5.1 in /usr/local/lib/python3.10/dist-packages (from qiskit-ibm-provider<0.9.0,>=0.5.3->qbraid[qiskit]) (1.7.0)\n",
            "Requirement already satisfied: websockets>=10.0 in /usr/local/lib/python3.10/dist-packages (from qiskit-ibm-provider<0.9.0,>=0.5.3->qbraid[qiskit]) (12.0)\n",
            "Requirement already satisfied: charset-normalizer<4,>=2 in /usr/local/lib/python3.10/dist-packages (from requests>=2.28.0->qbraid[qiskit]) (3.3.2)\n",
            "Requirement already satisfied: idna<4,>=2.5 in /usr/local/lib/python3.10/dist-packages (from requests>=2.28.0->qbraid[qiskit]) (3.6)\n",
            "Requirement already satisfied: certifi>=2017.4.17 in /usr/local/lib/python3.10/dist-packages (from requests>=2.28.0->qbraid[qiskit]) (2023.11.17)\n",
            "Requirement already satisfied: six>=1.5 in /usr/local/lib/python3.10/dist-packages (from python-dateutil>=2.8.0->qiskit-terra==0.45.3->qiskit<0.46.0,>=0.44.0->qbraid[qiskit]) (1.16.0)\n",
            "Requirement already satisfied: cryptography>=1.3 in /usr/local/lib/python3.10/dist-packages (from requests-ntlm>=1.1.0->qiskit-ibm-provider<0.9.0,>=0.5.3->qbraid[qiskit]) (42.0.2)\n",
            "Requirement already satisfied: pyspnego>=0.1.6 in /usr/local/lib/python3.10/dist-packages (from requests-ntlm>=1.1.0->qiskit-ibm-provider<0.9.0,>=0.5.3->qbraid[qiskit]) (0.10.2)\n",
            "Requirement already satisfied: cffi>=1.12 in /usr/local/lib/python3.10/dist-packages (from cryptography>=1.3->requests-ntlm>=1.1.0->qiskit-ibm-provider<0.9.0,>=0.5.3->qbraid[qiskit]) (1.16.0)\n",
            "Requirement already satisfied: pbr!=2.1.0,>=2.0.0 in /usr/local/lib/python3.10/dist-packages (from stevedore>=3.0.0->qiskit-terra==0.45.3->qiskit<0.46.0,>=0.44.0->qbraid[qiskit]) (6.0.0)\n",
            "Requirement already satisfied: mpmath>=0.19 in /usr/local/lib/python3.10/dist-packages (from sympy>=1.3->qiskit-terra==0.45.3->qiskit<0.46.0,>=0.44.0->qbraid[qiskit]) (1.3.0)\n",
            "Requirement already satisfied: pycparser in /usr/local/lib/python3.10/dist-packages (from cffi>=1.12->cryptography>=1.3->requests-ntlm>=1.1.0->qiskit-ibm-provider<0.9.0,>=0.5.3->qbraid[qiskit]) (2.21)\n"
          ]
        }
      ]
    },
    {
      "cell_type": "code",
      "source": [
        "from qbraid import SUPPORTED_QPROGRAMS\n",
        "SUPPORTED_QPROGRAMS"
      ],
      "metadata": {
        "colab": {
          "base_uri": "https://localhost:8080/"
        },
        "id": "oivGLBPmXBWv",
        "outputId": "919a385b-114d-4e23-fed5-dc05ea3cbd4c"
      },
      "execution_count": 24,
      "outputs": [
        {
          "output_type": "execute_result",
          "data": {
            "text/plain": [
              "{'cirq': 'cirq.circuits.circuit.Circuit',\n",
              " 'qiskit': 'qiskit.circuit.quantumcircuit.QuantumCircuit',\n",
              " 'pyquil': 'pyquil.quil.Program',\n",
              " 'openqasm3': 'openqasm3.ast.Program',\n",
              " 'qasm2': 'str',\n",
              " 'qasm3': 'str'}"
            ]
          },
          "metadata": {},
          "execution_count": 24
        }
      ]
    },
    {
      "cell_type": "code",
      "source": [
        "import numpy as np\n",
        "import sympy\n",
        "from qiskit import *\n",
        "from qiskit import QuantumCircuit"
      ],
      "metadata": {
        "id": "LmqqLeUFOIEf"
      },
      "execution_count": 25,
      "outputs": []
    },
    {
      "cell_type": "code",
      "source": [
        "qc = QuantumCircuit(3, 3)\n",
        "qc.h(0)\n",
        "qc.h(1)\n",
        "qc.h(2)\n",
        "qasm_string = qc.qasm()\n",
        "print(qasm_string)"
      ],
      "metadata": {
        "colab": {
          "base_uri": "https://localhost:8080/"
        },
        "id": "nrab75ztQNZG",
        "outputId": "37e2d209-d170-4e1c-9d87-09c5faec89c8"
      },
      "execution_count": 26,
      "outputs": [
        {
          "output_type": "stream",
          "name": "stdout",
          "text": [
            "OPENQASM 2.0;\n",
            "include \"qelib1.inc\";\n",
            "qreg q[3];\n",
            "creg c[3];\n",
            "h q[0];\n",
            "h q[1];\n",
            "h q[2];\n",
            "\n"
          ]
        }
      ]
    },
    {
      "cell_type": "code",
      "source": [
        "from google.colab import drive\n",
        "import json\n",
        "drive.mount('/content/drive')\n"
      ],
      "metadata": {
        "colab": {
          "base_uri": "https://localhost:8080/"
        },
        "id": "2cpSiIyYbGvU",
        "outputId": "bc0e46b6-c829-47bf-f81a-453c66b8b794"
      },
      "execution_count": 40,
      "outputs": [
        {
          "output_type": "stream",
          "name": "stdout",
          "text": [
            "Mounted at /content/drive\n"
          ]
        }
      ]
    },
    {
      "cell_type": "code",
      "source": [
        "res = server.probe(vault_index=0, circuit=qasm_string)\n",
        "with open('/content/drive/MyDrive/vaults_data.txt', 'w') as f:\n",
        "  json.dump(res, f)"
      ],
      "metadata": {
        "id": "Dv_0otKYbMmC"
      },
      "execution_count": 41,
      "outputs": []
    },
    {
      "cell_type": "markdown",
      "source": [
        "you can figure out the number of qubits by using one of your probes. However, you should try to get more information from that probe than just the number of qubits. Also, you should make sure to save the histogram from your probes."
      ],
      "metadata": {
        "id": "W4l5IYRfaw9n"
      }
    },
    {
      "cell_type": "code",
      "source": [
        "server.state()"
      ],
      "metadata": {
        "colab": {
          "base_uri": "https://localhost:8080/"
        },
        "id": "x8VSxdgEP1-W",
        "outputId": "a9524f4a-4b4f-488a-ad3b-74d760d9ac0c"
      },
      "execution_count": 47,
      "outputs": [
        {
          "output_type": "execute_result",
          "data": {
            "text/plain": [
              "{'team': 'lame_attack',\n",
              " 'totalAvgScore': 0.027208333333333334,\n",
              " 'topVaultScores': [0.8, 0, 0, 0, 0, 0.2505, 0, 0, 0, 0.076, 0, 0, 0],\n",
              " 'probesRemaining': [16, 18, 18, 18, 18, 14, 18, 18, 18, 15, 18, 18, 18],\n",
              " 'attacksRemaining': [20, 20, 20, 20, 20, 18, 20, 20, 20, 17, 20, 20, 20],\n",
              " 'reminder': 'Vault index 0 is a test vault, and does not count towards your final score.'}"
            ]
          },
          "metadata": {},
          "execution_count": 47
        }
      ]
    },
    {
      "cell_type": "code",
      "source": [
        "qc2 = QuantumCircuit(3, 3)\n",
        "qc2.h(0)\n",
        "qc2.cnot(0, 1)\n",
        "qc2.cnot(0, 2)\n",
        "qc2.h(0)\n",
        "\n",
        "attack_circ = qc2.qasm()"
      ],
      "metadata": {
        "id": "llAl5fWvPm_Y"
      },
      "execution_count": 17,
      "outputs": []
    },
    {
      "cell_type": "code",
      "source": [
        "test_circuit = QuantumCircuit(3)\n",
        "test_circuit.rx(1.05, 0)\n",
        "test_circuit.rx(1.15, 1)\n",
        "test_circuit.rx(0.689, 2)\n",
        "test_circuit.rz(0.984, 0)\n",
        "test_circuit.rz(0.722, 1)\n",
        "test_circuit.rz(1.26, 2)\n",
        "test_circuit.rxx(theta=0.902, qubit1=0, qubit2=1)\n",
        "test_circuit.rxx(theta=0.568, qubit1=1, qubit2=2)\n",
        "test_circuit.rxx(theta=1.62, qubit1=0, qubit2=2)\n",
        "\n",
        "test_circuit.draw()\n"
      ],
      "metadata": {
        "colab": {
          "base_uri": "https://localhost:8080/",
          "height": 233
        },
        "id": "73BkfHBXVsoc",
        "outputId": "70ca069d-fcd0-4e49-e756-b6355b6e1c69"
      },
      "execution_count": 37,
      "outputs": [
        {
          "output_type": "execute_result",
          "data": {
            "text/plain": [
              "       ┌──────────┐ ┌────────────┐┌────────────────┐                  »\n",
              "q_0: ──┤ Rx(1.63) ├─┤ Rz(-0.202) ├┤0               ├──────────────────»\n",
              "      ┌┴──────────┴┐├───────────┬┘│  Rxx(-0.00518) │┌────────────────┐»\n",
              "q_1: ─┤ Rx(0.0055) ├┤ Rz(0.557) ├─┤1               ├┤0               ├»\n",
              "     ┌┴────────────┤├───────────┤ └────────────────┘│  Rxx(-0.00899) │»\n",
              "q_2: ┤ Rx(-0.0055) ├┤ Rz(0.825) ├───────────────────┤1               ├»\n",
              "     └─────────────┘└───────────┘                   └────────────────┘»\n",
              "«     ┌────────────────┐\n",
              "«q_0: ┤0               ├\n",
              "«     │                │\n",
              "«q_1: ┤  Rxx(-0.00298) ├\n",
              "«     │                │\n",
              "«q_2: ┤1               ├\n",
              "«     └────────────────┘"
            ],
            "text/html": [
              "<pre style=\"word-wrap: normal;white-space: pre;background: #fff0;line-height: 1.1;font-family: &quot;Courier New&quot;,Courier,monospace\">       ┌──────────┐ ┌────────────┐┌────────────────┐                  »\n",
              "q_0: ──┤ Rx(1.63) ├─┤ Rz(-0.202) ├┤0               ├──────────────────»\n",
              "      ┌┴──────────┴┐├───────────┬┘│  Rxx(-0.00518) │┌────────────────┐»\n",
              "q_1: ─┤ Rx(0.0055) ├┤ Rz(0.557) ├─┤1               ├┤0               ├»\n",
              "     ┌┴────────────┤├───────────┤ └────────────────┘│  Rxx(-0.00899) │»\n",
              "q_2: ┤ Rx(-0.0055) ├┤ Rz(0.825) ├───────────────────┤1               ├»\n",
              "     └─────────────┘└───────────┘                   └────────────────┘»\n",
              "«     ┌────────────────┐\n",
              "«q_0: ┤0               ├\n",
              "«     │                │\n",
              "«q_1: ┤  Rxx(-0.00298) ├\n",
              "«     │                │\n",
              "«q_2: ┤1               ├\n",
              "«     └────────────────┘</pre>"
            ]
          },
          "metadata": {},
          "execution_count": 37
        }
      ]
    },
    {
      "cell_type": "code",
      "source": [
        "qc3 = test_circuit.qasm()\n",
        "\n",
        "server.attack(vault_index=0, circuit=qc3)"
      ],
      "metadata": {
        "colab": {
          "base_uri": "https://localhost:8080/"
        },
        "id": "Barf4b_nnJVL",
        "outputId": "42a1abd6-a717-4b60-b1a5-bf0b7d444c72"
      },
      "execution_count": 38,
      "outputs": [
        {
          "output_type": "execute_result",
          "data": {
            "text/plain": [
              "{'score': 0.13514285714285712,\n",
              " 'rawScore': 0.2365,\n",
              " 'costFactor': 0.5714285714285714}"
            ]
          },
          "metadata": {},
          "execution_count": 38
        }
      ]
    },
    {
      "cell_type": "code",
      "source": [
        "server.state()"
      ],
      "metadata": {
        "colab": {
          "base_uri": "https://localhost:8080/"
        },
        "id": "Uz5jLiGDnLR3",
        "outputId": "d9522f17-32d3-4072-8e13-a808f7d15fb0"
      },
      "execution_count": 36,
      "outputs": [
        {
          "output_type": "execute_result",
          "data": {
            "text/plain": [
              "{'team': 'lame_attack',\n",
              " 'totalAvgScore': 0.000588235294117647,\n",
              " 'topVaultScores': [0.8,\n",
              "  0,\n",
              "  0,\n",
              "  0,\n",
              "  0,\n",
              "  0,\n",
              "  0,\n",
              "  0,\n",
              "  0,\n",
              "  0.007058823529411764,\n",
              "  0,\n",
              "  0,\n",
              "  0],\n",
              " 'probesRemaining': [25, 19, 19, 19, 19, 18, 19, 19, 19, 18, 19, 19, 19],\n",
              " 'attacksRemaining': [21, 20, 20, 20, 20, 20, 20, 20, 20, 18, 20, 20, 20],\n",
              " 'reminder': 'Vault index 0 is a test vault, and does not count towards your final score.'}"
            ]
          },
          "metadata": {},
          "execution_count": 36
        }
      ]
    },
    {
      "cell_type": "code",
      "source": [],
      "metadata": {
        "id": "myEM2vB1W_-b"
      },
      "execution_count": null,
      "outputs": []
    }
  ]
}